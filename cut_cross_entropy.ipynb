{
 "cells": [
  {
   "cell_type": "markdown",
   "id": "0ef58be0-882f-4e0e-afac-8b69ef58fd56",
   "metadata": {},
   "source": [
    "# cut cross entropy"
   ]
  },
  {
   "cell_type": "markdown",
   "id": "1130a1e1-1aeb-473f-804a-476baaefc344",
   "metadata": {},
   "source": [
    "author: [xiaodongguaAIGC](!https://github.com/dhcode-cpp)"
   ]
  },
  {
   "cell_type": "code",
   "execution_count": 1,
   "id": "78c71de7-0c5f-4637-a06f-d44c47ccce25",
   "metadata": {},
   "outputs": [],
   "source": [
    "import torch\n",
    "import torch.nn as nn\n",
    "import torch.nn.functional as F"
   ]
  },
  {
   "cell_type": "markdown",
   "id": "e7db6c00-65a1-4c9c-987c-475043be7d3e",
   "metadata": {},
   "source": [
    "## Cross-Entropy"
   ]
  },
  {
   "cell_type": "code",
   "execution_count": 2,
   "id": "c9cef966-b55c-4dda-8122-504b6c87a0f3",
   "metadata": {},
   "outputs": [],
   "source": [
    "X = torch.tensor([1.0, 3.0, -1.2, 1.1, -0.5, -0.8]) # logits\n",
    "Y = torch.tensor([0.4, 0.2, 0.1,  0.1, 0.05, 0.15])"
   ]
  },
  {
   "cell_type": "markdown",
   "id": "2cde6066-bd74-493f-ab92-f3f8ad4d53bf",
   "metadata": {},
   "source": [
    "### Cross Entropy Pytorch"
   ]
  },
  {
   "cell_type": "markdown",
   "id": "338ea46f-84dc-4f63-9e27-d91d04b99598",
   "metadata": {},
   "source": [
    "$CE(X,Y) = \\sum_i -\\log(\\text{softmax}(X))$"
   ]
  },
  {
   "cell_type": "code",
   "execution_count": 3,
   "id": "a1567690-e4a2-42b6-8bc4-4385a00ccbad",
   "metadata": {},
   "outputs": [
    {
     "data": {
      "text/html": [
       "<pre style=\"white-space:pre;overflow-x:auto;line-height:normal;font-family:Menlo,'DejaVu Sans Mono',consolas,'Courier New',monospace\"><span style=\"color: #800080; text-decoration-color: #800080; font-weight: bold\">tensor</span><span style=\"font-weight: bold\">(</span><span style=\"color: #008080; text-decoration-color: #008080; font-weight: bold\">2.4569</span><span style=\"font-weight: bold\">)</span>\n",
       "</pre>\n"
      ],
      "text/plain": [
       "\u001b[1;35mtensor\u001b[0m\u001b[1m(\u001b[0m\u001b[1;36m2.4569\u001b[0m\u001b[1m)\u001b[0m\n"
      ]
     },
     "metadata": {},
     "output_type": "display_data"
    }
   ],
   "source": [
    "loss = nn.CrossEntropyLoss()\n",
    "l = loss(X,Y)\n",
    "print(l)"
   ]
  },
  {
   "cell_type": "markdown",
   "id": "eef0206d-a586-4883-84f9-9357a4d68d66",
   "metadata": {},
   "source": [
    "### Cross Entropy with log softmax"
   ]
  },
  {
   "cell_type": "markdown",
   "id": "6b8c834d-3318-4888-bfbf-4f7321ae1103",
   "metadata": {},
   "source": [
    "when we calculate cross entropy, we need logprob"
   ]
  },
  {
   "cell_type": "code",
   "execution_count": 4,
   "id": "6a294152-b93c-45d9-a5b4-dc147c56daa1",
   "metadata": {},
   "outputs": [
    {
     "data": {
      "text/html": [
       "<pre style=\"white-space:pre;overflow-x:auto;line-height:normal;font-family:Menlo,'DejaVu Sans Mono',consolas,'Courier New',monospace\"><span style=\"color: #800080; text-decoration-color: #800080; font-weight: bold\">tensor</span><span style=\"font-weight: bold\">(</span><span style=\"color: #008080; text-decoration-color: #008080; font-weight: bold\">2.4569</span><span style=\"font-weight: bold\">)</span>\n",
       "</pre>\n"
      ],
      "text/plain": [
       "\u001b[1;35mtensor\u001b[0m\u001b[1m(\u001b[0m\u001b[1;36m2.4569\u001b[0m\u001b[1m)\u001b[0m\n"
      ]
     },
     "metadata": {},
     "output_type": "display_data"
    }
   ],
   "source": [
    "l = -Y * F.log_softmax(X, dim = 0 )\n",
    "l = l.sum()\n",
    "print(l)"
   ]
  },
  {
   "cell_type": "code",
   "execution_count": 5,
   "id": "a5f45b72-508f-4c87-916c-061fac126af9",
   "metadata": {},
   "outputs": [
    {
     "data": {
      "text/html": [
       "<pre style=\"white-space:pre;overflow-x:auto;line-height:normal;font-family:Menlo,'DejaVu Sans Mono',consolas,'Courier New',monospace\"><span style=\"color: #800080; text-decoration-color: #800080; font-weight: bold\">tensor</span><span style=\"font-weight: bold\">(</span><span style=\"color: #008080; text-decoration-color: #008080; font-weight: bold\">2.4569</span><span style=\"font-weight: bold\">)</span>\n",
       "</pre>\n"
      ],
      "text/plain": [
       "\u001b[1;35mtensor\u001b[0m\u001b[1m(\u001b[0m\u001b[1;36m2.4569\u001b[0m\u001b[1m)\u001b[0m\n"
      ]
     },
     "metadata": {},
     "output_type": "display_data"
    }
   ],
   "source": [
    "p = F.softmax(X, dim = 0 )\n",
    "l = -Y * p.log()\n",
    "l = l.sum()\n",
    "print(l)"
   ]
  },
  {
   "cell_type": "markdown",
   "id": "211365fd-4f30-4361-8f10-aa31eb88f41f",
   "metadata": {},
   "source": [
    "## Softmax"
   ]
  },
  {
   "cell_type": "markdown",
   "id": "59a85d99-39ea-438f-902b-fdf08cf3e7a8",
   "metadata": {},
   "source": [
    "#### forward"
   ]
  },
  {
   "cell_type": "code",
   "execution_count": 6,
   "id": "2f20c2c0-3597-403a-b4b1-9a46970f8418",
   "metadata": {},
   "outputs": [
    {
     "data": {
      "text/html": [
       "<pre style=\"white-space:pre;overflow-x:auto;line-height:normal;font-family:Menlo,'DejaVu Sans Mono',consolas,'Courier New',monospace\"><span style=\"color: #800080; text-decoration-color: #800080; font-weight: bold\">tensor</span><span style=\"font-weight: bold\">([</span><span style=\"color: #008080; text-decoration-color: #008080; font-weight: bold\">0.1001</span>, <span style=\"color: #008080; text-decoration-color: #008080; font-weight: bold\">0.7394</span>, <span style=\"color: #008080; text-decoration-color: #008080; font-weight: bold\">0.0111</span>, <span style=\"color: #008080; text-decoration-color: #008080; font-weight: bold\">0.1106</span>, <span style=\"color: #008080; text-decoration-color: #008080; font-weight: bold\">0.0223</span>, <span style=\"color: #008080; text-decoration-color: #008080; font-weight: bold\">0.0165</span><span style=\"font-weight: bold\">])</span>\n",
       "</pre>\n"
      ],
      "text/plain": [
       "\u001b[1;35mtensor\u001b[0m\u001b[1m(\u001b[0m\u001b[1m[\u001b[0m\u001b[1;36m0.1001\u001b[0m, \u001b[1;36m0.7394\u001b[0m, \u001b[1;36m0.0111\u001b[0m, \u001b[1;36m0.1106\u001b[0m, \u001b[1;36m0.0223\u001b[0m, \u001b[1;36m0.0165\u001b[0m\u001b[1m]\u001b[0m\u001b[1m)\u001b[0m\n"
      ]
     },
     "metadata": {},
     "output_type": "display_data"
    },
    {
     "data": {
      "text/html": [
       "<pre style=\"white-space:pre;overflow-x:auto;line-height:normal;font-family:Menlo,'DejaVu Sans Mono',consolas,'Courier New',monospace\"><span style=\"color: #800080; text-decoration-color: #800080; font-weight: bold\">tensor</span><span style=\"font-weight: bold\">(</span><span style=\"color: #008080; text-decoration-color: #008080; font-weight: bold\">2.4569</span><span style=\"font-weight: bold\">)</span>\n",
       "</pre>\n"
      ],
      "text/plain": [
       "\u001b[1;35mtensor\u001b[0m\u001b[1m(\u001b[0m\u001b[1;36m2.4569\u001b[0m\u001b[1m)\u001b[0m\n"
      ]
     },
     "metadata": {},
     "output_type": "display_data"
    }
   ],
   "source": [
    "p = torch.exp(X) / (torch.exp(X)).sum()\n",
    "print(p)\n",
    "l = - Y * p.log()\n",
    "l = l.sum()\n",
    "print(l)"
   ]
  },
  {
   "cell_type": "markdown",
   "id": "9c7b46e8-ea31-4c7e-8ed6-2ef338ea7c3d",
   "metadata": {},
   "source": [
    "### gradient"
   ]
  },
  {
   "cell_type": "code",
   "execution_count": 7,
   "id": "c5c782ee-e9ee-4952-bad2-944bcf68c64a",
   "metadata": {},
   "outputs": [
    {
     "data": {
      "text/html": [
       "<pre style=\"white-space:pre;overflow-x:auto;line-height:normal;font-family:Menlo,'DejaVu Sans Mono',consolas,'Courier New',monospace\"><span style=\"color: #800080; text-decoration-color: #800080; font-weight: bold\">tensor</span><span style=\"font-weight: bold\">([</span><span style=\"color: #008080; text-decoration-color: #008080; font-weight: bold\">-0.0500</span>,  <span style=\"color: #008080; text-decoration-color: #008080; font-weight: bold\">0.0899</span>, <span style=\"color: #008080; text-decoration-color: #008080; font-weight: bold\">-0.0148</span>,  <span style=\"color: #008080; text-decoration-color: #008080; font-weight: bold\">0.0018</span>, <span style=\"color: #008080; text-decoration-color: #008080; font-weight: bold\">-0.0046</span>, <span style=\"color: #008080; text-decoration-color: #008080; font-weight: bold\">-0.0222</span><span style=\"font-weight: bold\">])</span>\n",
       "</pre>\n"
      ],
      "text/plain": [
       "\u001b[1;35mtensor\u001b[0m\u001b[1m(\u001b[0m\u001b[1m[\u001b[0m\u001b[1;36m-0.0500\u001b[0m,  \u001b[1;36m0.0899\u001b[0m, \u001b[1;36m-0.0148\u001b[0m,  \u001b[1;36m0.0018\u001b[0m, \u001b[1;36m-0.0046\u001b[0m, \u001b[1;36m-0.0222\u001b[0m\u001b[1m]\u001b[0m\u001b[1m)\u001b[0m\n"
      ]
     },
     "metadata": {},
     "output_type": "display_data"
    }
   ],
   "source": [
    "N = 6 \n",
    "dX = (p - Y) / 6\n",
    "print(dX)"
   ]
  },
  {
   "cell_type": "code",
   "execution_count": 8,
   "id": "36d64972-236c-4699-8c4a-3e9f57022eee",
   "metadata": {},
   "outputs": [
    {
     "data": {
      "text/html": [
       "<pre style=\"white-space:pre;overflow-x:auto;line-height:normal;font-family:Menlo,'DejaVu Sans Mono',consolas,'Courier New',monospace\"><span style=\"color: #800080; text-decoration-color: #800080; font-weight: bold\">tensor</span><span style=\"font-weight: bold\">([</span><span style=\"color: #008080; text-decoration-color: #008080; font-weight: bold\">-0.2999</span>,  <span style=\"color: #008080; text-decoration-color: #008080; font-weight: bold\">0.5394</span>, <span style=\"color: #008080; text-decoration-color: #008080; font-weight: bold\">-0.0889</span>,  <span style=\"color: #008080; text-decoration-color: #008080; font-weight: bold\">0.0106</span>, <span style=\"color: #008080; text-decoration-color: #008080; font-weight: bold\">-0.0277</span>, <span style=\"color: #008080; text-decoration-color: #008080; font-weight: bold\">-0.1335</span><span style=\"font-weight: bold\">])</span>\n",
       "</pre>\n"
      ],
      "text/plain": [
       "\u001b[1;35mtensor\u001b[0m\u001b[1m(\u001b[0m\u001b[1m[\u001b[0m\u001b[1;36m-0.2999\u001b[0m,  \u001b[1;36m0.5394\u001b[0m, \u001b[1;36m-0.0889\u001b[0m,  \u001b[1;36m0.0106\u001b[0m, \u001b[1;36m-0.0277\u001b[0m, \u001b[1;36m-0.1335\u001b[0m\u001b[1m]\u001b[0m\u001b[1m)\u001b[0m\n"
      ]
     },
     "metadata": {},
     "output_type": "display_data"
    }
   ],
   "source": [
    "dpdX = torch.diag(p) - torch.outer(p, p)\n",
    "dX = -(Y / p) @ dpdX   # first term is (- Y log p)' = (-Y/p)\n",
    "print(dX)"
   ]
  },
  {
   "cell_type": "markdown",
   "id": "6d6d2f7b-ff56-462a-95b4-1faef28b6f39",
   "metadata": {},
   "source": [
    "## Log Softmax"
   ]
  },
  {
   "cell_type": "markdown",
   "id": "45685c53-2f6c-448b-af12-716ecc012809",
   "metadata": {},
   "source": [
    "### forward"
   ]
  },
  {
   "cell_type": "code",
   "execution_count": 9,
   "id": "e08e8380-3559-498d-ba8b-38a19859809a",
   "metadata": {},
   "outputs": [
    {
     "data": {
      "text/html": [
       "<pre style=\"white-space:pre;overflow-x:auto;line-height:normal;font-family:Menlo,'DejaVu Sans Mono',consolas,'Courier New',monospace\"><span style=\"color: #800080; text-decoration-color: #800080; font-weight: bold\">tensor</span><span style=\"font-weight: bold\">([</span><span style=\"color: #008080; text-decoration-color: #008080; font-weight: bold\">-2.3019</span>, <span style=\"color: #008080; text-decoration-color: #008080; font-weight: bold\">-0.3019</span>, <span style=\"color: #008080; text-decoration-color: #008080; font-weight: bold\">-4.5019</span>, <span style=\"color: #008080; text-decoration-color: #008080; font-weight: bold\">-2.2019</span>, <span style=\"color: #008080; text-decoration-color: #008080; font-weight: bold\">-3.8019</span>, <span style=\"color: #008080; text-decoration-color: #008080; font-weight: bold\">-4.1019</span><span style=\"font-weight: bold\">])</span>\n",
       "</pre>\n"
      ],
      "text/plain": [
       "\u001b[1;35mtensor\u001b[0m\u001b[1m(\u001b[0m\u001b[1m[\u001b[0m\u001b[1;36m-2.3019\u001b[0m, \u001b[1;36m-0.3019\u001b[0m, \u001b[1;36m-4.5019\u001b[0m, \u001b[1;36m-2.2019\u001b[0m, \u001b[1;36m-3.8019\u001b[0m, \u001b[1;36m-4.1019\u001b[0m\u001b[1m]\u001b[0m\u001b[1m)\u001b[0m\n"
      ]
     },
     "metadata": {},
     "output_type": "display_data"
    },
    {
     "data": {
      "text/html": [
       "<pre style=\"white-space:pre;overflow-x:auto;line-height:normal;font-family:Menlo,'DejaVu Sans Mono',consolas,'Courier New',monospace\"><span style=\"color: #800080; text-decoration-color: #800080; font-weight: bold\">tensor</span><span style=\"font-weight: bold\">(</span><span style=\"color: #008080; text-decoration-color: #008080; font-weight: bold\">2.4569</span><span style=\"font-weight: bold\">)</span>\n",
       "</pre>\n"
      ],
      "text/plain": [
       "\u001b[1;35mtensor\u001b[0m\u001b[1m(\u001b[0m\u001b[1;36m2.4569\u001b[0m\u001b[1m)\u001b[0m\n"
      ]
     },
     "metadata": {},
     "output_type": "display_data"
    }
   ],
   "source": [
    "LSE = torch.log( torch.sum( torch.exp( X ) ) )\n",
    "p = X - LSE # X - LSE\n",
    "print(p)\n",
    "l = - Y * p # delete log\n",
    "l = l.sum()\n",
    "print(l)"
   ]
  },
  {
   "cell_type": "markdown",
   "id": "fce234df-f75a-4cef-a231-156e96b59a97",
   "metadata": {},
   "source": [
    "### gradient"
   ]
  },
  {
   "cell_type": "markdown",
   "id": "23914820-a8b0-4e2c-b913-c69c60002f2c",
   "metadata": {},
   "source": [
    "首先，L = -∑y_i * log(softmax(x_i))\n",
    "\n",
    "= -∑y_i * p_i (因为p_i = LogSoftmax(x_i))\n",
    "\n",
    "求导链式法则：\n",
    "\n",
    "∂L/∂x_k = ∑_i (∂L/∂p_i * ∂p_i/∂x_k)\n",
    "\n",
    "其中：\n",
    "\n",
    "∂L/∂p_i = -y_i\n",
    "\n",
    "∂p_i/∂x_k = δ_{ik} - softmax(x_k) (上一问的结果)\n",
    "\n",
    "代入得到：\n",
    "\n",
    "∂L/∂x_k = ∑_i (-y_i * (δ_{ik} - softmax(x_k)))\n",
    "\n",
    "= -y_k + ∑_i y_i * softmax(x_k)\n",
    "\n",
    "= -y_k + softmax(x_k) * ∑_i y_i\n",
    "\n",
    "= softmax(x_k) - y_k (因为∑y_i = 1)\n"
   ]
  },
  {
   "cell_type": "code",
   "execution_count": 10,
   "id": "a09fb378-d88f-418f-b907-142039bf95bc",
   "metadata": {},
   "outputs": [
    {
     "data": {
      "text/html": [
       "<pre style=\"white-space:pre;overflow-x:auto;line-height:normal;font-family:Menlo,'DejaVu Sans Mono',consolas,'Courier New',monospace\"><span style=\"color: #800080; text-decoration-color: #800080; font-weight: bold\">tensor</span><span style=\"font-weight: bold\">([</span><span style=\"color: #008080; text-decoration-color: #008080; font-weight: bold\">-0.2999</span>,  <span style=\"color: #008080; text-decoration-color: #008080; font-weight: bold\">0.5394</span>, <span style=\"color: #008080; text-decoration-color: #008080; font-weight: bold\">-0.0889</span>,  <span style=\"color: #008080; text-decoration-color: #008080; font-weight: bold\">0.0106</span>, <span style=\"color: #008080; text-decoration-color: #008080; font-weight: bold\">-0.0277</span>, <span style=\"color: #008080; text-decoration-color: #008080; font-weight: bold\">-0.1335</span><span style=\"font-weight: bold\">])</span>\n",
       "</pre>\n"
      ],
      "text/plain": [
       "\u001b[1;35mtensor\u001b[0m\u001b[1m(\u001b[0m\u001b[1m[\u001b[0m\u001b[1;36m-0.2999\u001b[0m,  \u001b[1;36m0.5394\u001b[0m, \u001b[1;36m-0.0889\u001b[0m,  \u001b[1;36m0.0106\u001b[0m, \u001b[1;36m-0.0277\u001b[0m, \u001b[1;36m-0.1335\u001b[0m\u001b[1m]\u001b[0m\u001b[1m)\u001b[0m\n"
      ]
     },
     "metadata": {},
     "output_type": "display_data"
    }
   ],
   "source": [
    "l = - Y * p / N\n",
    "# p.exp() is softmax result probability\n",
    "dX = p.exp() - Y # lse is easy revearse p \n",
    "print(dX)"
   ]
  },
  {
   "cell_type": "markdown",
   "id": "64d2a8ef-0602-448d-bac3-e15fe410c327",
   "metadata": {},
   "source": [
    "## Cut Cross Entropy"
   ]
  },
  {
   "cell_type": "markdown",
   "id": "6a047fcc-e378-47e4-bb2a-67c5434c431c",
   "metadata": {},
   "source": [
    "think about llm model has a big vocabulary, so the classifer project d-dimension to |V|-dimension, and |V| usually is big like 128,000 or 256,000.\n",
    "\n",
    "classifier proj is big GEMM when the model params < 2B"
   ]
  },
  {
   "cell_type": "code",
   "execution_count": 11,
   "id": "463a8255-adcf-40c1-9144-a9c3e2caaa08",
   "metadata": {},
   "outputs": [
    {
     "data": {
      "text/html": [
       "<pre style=\"white-space:pre;overflow-x:auto;line-height:normal;font-family:Menlo,'DejaVu Sans Mono',consolas,'Courier New',monospace\"><span style=\"color: #008080; text-decoration-color: #008080; font-weight: bold\">2</span>\n",
       "</pre>\n"
      ],
      "text/plain": [
       "\u001b[1;36m2\u001b[0m\n"
      ]
     },
     "metadata": {},
     "output_type": "display_data"
    },
    {
     "data": {
      "text/html": [
       "<pre style=\"white-space:pre;overflow-x:auto;line-height:normal;font-family:Menlo,'DejaVu Sans Mono',consolas,'Courier New',monospace\"><span style=\"color: #008080; text-decoration-color: #008080; font-weight: bold\">4</span>\n",
       "</pre>\n"
      ],
      "text/plain": [
       "\u001b[1;36m4\u001b[0m\n"
      ]
     },
     "metadata": {},
     "output_type": "display_data"
    },
    {
     "data": {
      "text/html": [
       "<pre style=\"white-space:pre;overflow-x:auto;line-height:normal;font-family:Menlo,'DejaVu Sans Mono',consolas,'Courier New',monospace\"><span style=\"color: #008080; text-decoration-color: #008080; font-weight: bold\">32</span>\n",
       "</pre>\n"
      ],
      "text/plain": [
       "\u001b[1;36m32\u001b[0m\n"
      ]
     },
     "metadata": {},
     "output_type": "display_data"
    }
   ],
   "source": [
    "v = 128\n",
    "d = 16\n",
    "bs = 8\n",
    "block_size = 4\n",
    "n_b = bs // block_size\n",
    "d_b = d // block_size\n",
    "v_b = v // block_size\n",
    "\n",
    "print(n_b)\n",
    "print(d_b)\n",
    "print(v_b)"
   ]
  },
  {
   "cell_type": "code",
   "execution_count": 12,
   "id": "ab8ee0f6-11ab-4a42-be5a-548f3d0f410b",
   "metadata": {},
   "outputs": [
    {
     "data": {
      "text/html": [
       "<pre style=\"white-space:pre;overflow-x:auto;line-height:normal;font-family:Menlo,'DejaVu Sans Mono',consolas,'Courier New',monospace\"><span style=\"color: #800080; text-decoration-color: #800080; font-weight: bold\">torch.Size</span><span style=\"font-weight: bold\">([</span><span style=\"color: #008080; text-decoration-color: #008080; font-weight: bold\">8</span>, <span style=\"color: #008080; text-decoration-color: #008080; font-weight: bold\">128</span><span style=\"font-weight: bold\">])</span>\n",
       "</pre>\n"
      ],
      "text/plain": [
       "\u001b[1;35mtorch.Size\u001b[0m\u001b[1m(\u001b[0m\u001b[1m[\u001b[0m\u001b[1;36m8\u001b[0m, \u001b[1;36m128\u001b[0m\u001b[1m]\u001b[0m\u001b[1m)\u001b[0m\n"
      ]
     },
     "metadata": {},
     "output_type": "display_data"
    }
   ],
   "source": [
    "C = torch.randn(d, v)\n",
    "E = torch.randn(bs, d)\n",
    "Y = torch.randn(bs, v)\n",
    "Y = torch.softmax(Y, dim = 1)\n",
    "print(Y.shape) # label"
   ]
  },
  {
   "cell_type": "markdown",
   "id": "c4f5cd23-a75d-4af0-b9f0-ee77928c3640",
   "metadata": {},
   "source": [
    "### standard CE"
   ]
  },
  {
   "cell_type": "code",
   "execution_count": 13,
   "id": "3c927951-75c8-4ec9-8e50-93a70e6ad299",
   "metadata": {},
   "outputs": [
    {
     "data": {
      "text/html": [
       "<pre style=\"white-space:pre;overflow-x:auto;line-height:normal;font-family:Menlo,'DejaVu Sans Mono',consolas,'Courier New',monospace\"><span style=\"color: #800080; text-decoration-color: #800080; font-weight: bold\">torch.Size</span><span style=\"font-weight: bold\">([</span><span style=\"color: #008080; text-decoration-color: #008080; font-weight: bold\">8</span>, <span style=\"color: #008080; text-decoration-color: #008080; font-weight: bold\">128</span><span style=\"font-weight: bold\">])</span>\n",
       "</pre>\n"
      ],
      "text/plain": [
       "\u001b[1;35mtorch.Size\u001b[0m\u001b[1m(\u001b[0m\u001b[1m[\u001b[0m\u001b[1;36m8\u001b[0m, \u001b[1;36m128\u001b[0m\u001b[1m]\u001b[0m\u001b[1m)\u001b[0m\n"
      ]
     },
     "metadata": {},
     "output_type": "display_data"
    },
    {
     "data": {
      "text/html": [
       "<pre style=\"white-space:pre;overflow-x:auto;line-height:normal;font-family:Menlo,'DejaVu Sans Mono',consolas,'Courier New',monospace\"><span style=\"color: #800080; text-decoration-color: #800080; font-weight: bold\">torch.Size</span><span style=\"font-weight: bold\">([</span><span style=\"color: #008080; text-decoration-color: #008080; font-weight: bold\">8</span>, <span style=\"color: #008080; text-decoration-color: #008080; font-weight: bold\">128</span><span style=\"font-weight: bold\">])</span>\n",
       "</pre>\n"
      ],
      "text/plain": [
       "\u001b[1;35mtorch.Size\u001b[0m\u001b[1m(\u001b[0m\u001b[1m[\u001b[0m\u001b[1;36m8\u001b[0m, \u001b[1;36m128\u001b[0m\u001b[1m]\u001b[0m\u001b[1m)\u001b[0m\n"
      ]
     },
     "metadata": {},
     "output_type": "display_data"
    },
    {
     "data": {
      "text/html": [
       "<pre style=\"white-space:pre;overflow-x:auto;line-height:normal;font-family:Menlo,'DejaVu Sans Mono',consolas,'Courier New',monospace\"><span style=\"color: #800080; text-decoration-color: #800080; font-weight: bold\">tensor</span><span style=\"font-weight: bold\">(</span><span style=\"color: #008080; text-decoration-color: #008080; font-weight: bold\">11.3531</span><span style=\"font-weight: bold\">)</span>\n",
       "</pre>\n"
      ],
      "text/plain": [
       "\u001b[1;35mtensor\u001b[0m\u001b[1m(\u001b[0m\u001b[1;36m11.3531\u001b[0m\u001b[1m)\u001b[0m\n"
      ]
     },
     "metadata": {},
     "output_type": "display_data"
    }
   ],
   "source": [
    "# ce\n",
    "logits = E @ C \n",
    "print(logits.shape)\n",
    "print(Y.shape)\n",
    "l = loss(logits, Y)\n",
    "print(l)"
   ]
  },
  {
   "cell_type": "code",
   "execution_count": 14,
   "id": "0ce001b1-21ef-4d14-b32f-47dddfd93688",
   "metadata": {},
   "outputs": [
    {
     "data": {
      "text/html": [
       "<pre style=\"white-space:pre;overflow-x:auto;line-height:normal;font-family:Menlo,'DejaVu Sans Mono',consolas,'Courier New',monospace\"><span style=\"color: #800080; text-decoration-color: #800080; font-weight: bold\">tensor</span><span style=\"font-weight: bold\">([[</span><span style=\"color: #008080; text-decoration-color: #008080; font-weight: bold\">6.0015e-06</span>, <span style=\"color: #008080; text-decoration-color: #008080; font-weight: bold\">2.2714e-06</span>, <span style=\"color: #008080; text-decoration-color: #008080; font-weight: bold\">1.8833e-08</span>,  <span style=\"color: #808000; text-decoration-color: #808000\">...</span>, <span style=\"color: #008080; text-decoration-color: #008080; font-weight: bold\">4.1099e-08</span>, <span style=\"color: #008080; text-decoration-color: #008080; font-weight: bold\">2.5148e-04</span>,\n",
       "         <span style=\"color: #008080; text-decoration-color: #008080; font-weight: bold\">5.8345e-06</span><span style=\"font-weight: bold\">]</span>,\n",
       "        <span style=\"font-weight: bold\">[</span><span style=\"color: #008080; text-decoration-color: #008080; font-weight: bold\">3.4295e-04</span>, <span style=\"color: #008080; text-decoration-color: #008080; font-weight: bold\">2.6087e-06</span>, <span style=\"color: #008080; text-decoration-color: #008080; font-weight: bold\">2.6068e-04</span>,  <span style=\"color: #808000; text-decoration-color: #808000\">...</span>, <span style=\"color: #008080; text-decoration-color: #008080; font-weight: bold\">2.9111e-03</span>, <span style=\"color: #008080; text-decoration-color: #008080; font-weight: bold\">9.9335e-04</span>,\n",
       "         <span style=\"color: #008080; text-decoration-color: #008080; font-weight: bold\">1.7892e-03</span><span style=\"font-weight: bold\">]</span>,\n",
       "        <span style=\"font-weight: bold\">[</span><span style=\"color: #008080; text-decoration-color: #008080; font-weight: bold\">3.6669e-06</span>, <span style=\"color: #008080; text-decoration-color: #008080; font-weight: bold\">2.7905e-05</span>, <span style=\"color: #008080; text-decoration-color: #008080; font-weight: bold\">1.6177e-05</span>,  <span style=\"color: #808000; text-decoration-color: #808000\">...</span>, <span style=\"color: #008080; text-decoration-color: #008080; font-weight: bold\">1.1876e-05</span>, <span style=\"color: #008080; text-decoration-color: #008080; font-weight: bold\">1.1016e-06</span>,\n",
       "         <span style=\"color: #008080; text-decoration-color: #008080; font-weight: bold\">5.5356e-05</span><span style=\"font-weight: bold\">]</span>,\n",
       "        <span style=\"color: #808000; text-decoration-color: #808000\">...</span>,\n",
       "        <span style=\"font-weight: bold\">[</span><span style=\"color: #008080; text-decoration-color: #008080; font-weight: bold\">3.3739e-04</span>, <span style=\"color: #008080; text-decoration-color: #008080; font-weight: bold\">5.2863e-05</span>, <span style=\"color: #008080; text-decoration-color: #008080; font-weight: bold\">1.2740e-04</span>,  <span style=\"color: #808000; text-decoration-color: #808000\">...</span>, <span style=\"color: #008080; text-decoration-color: #008080; font-weight: bold\">1.5014e-05</span>, <span style=\"color: #008080; text-decoration-color: #008080; font-weight: bold\">1.9382e-07</span>,\n",
       "         <span style=\"color: #008080; text-decoration-color: #008080; font-weight: bold\">7.0755e-06</span><span style=\"font-weight: bold\">]</span>,\n",
       "        <span style=\"font-weight: bold\">[</span><span style=\"color: #008080; text-decoration-color: #008080; font-weight: bold\">1.5546e-09</span>, <span style=\"color: #008080; text-decoration-color: #008080; font-weight: bold\">1.0746e-05</span>, <span style=\"color: #008080; text-decoration-color: #008080; font-weight: bold\">5.3797e-05</span>,  <span style=\"color: #808000; text-decoration-color: #808000\">...</span>, <span style=\"color: #008080; text-decoration-color: #008080; font-weight: bold\">1.5173e-07</span>, <span style=\"color: #008080; text-decoration-color: #008080; font-weight: bold\">3.1235e-07</span>,\n",
       "         <span style=\"color: #008080; text-decoration-color: #008080; font-weight: bold\">2.4252e-05</span><span style=\"font-weight: bold\">]</span>,\n",
       "        <span style=\"font-weight: bold\">[</span><span style=\"color: #008080; text-decoration-color: #008080; font-weight: bold\">2.4066e-06</span>, <span style=\"color: #008080; text-decoration-color: #008080; font-weight: bold\">1.0805e-03</span>, <span style=\"color: #008080; text-decoration-color: #008080; font-weight: bold\">6.7167e-05</span>,  <span style=\"color: #808000; text-decoration-color: #808000\">...</span>, <span style=\"color: #008080; text-decoration-color: #008080; font-weight: bold\">6.4321e-05</span>, <span style=\"color: #008080; text-decoration-color: #008080; font-weight: bold\">2.1308e-05</span>,\n",
       "         <span style=\"color: #008080; text-decoration-color: #008080; font-weight: bold\">5.5685e-05</span><span style=\"font-weight: bold\">]])</span>\n",
       "</pre>\n"
      ],
      "text/plain": [
       "\u001b[1;35mtensor\u001b[0m\u001b[1m(\u001b[0m\u001b[1m[\u001b[0m\u001b[1m[\u001b[0m\u001b[1;36m6.0015e-06\u001b[0m, \u001b[1;36m2.2714e-06\u001b[0m, \u001b[1;36m1.8833e-08\u001b[0m,  \u001b[33m...\u001b[0m, \u001b[1;36m4.1099e-08\u001b[0m, \u001b[1;36m2.5148e-04\u001b[0m,\n",
       "         \u001b[1;36m5.8345e-06\u001b[0m\u001b[1m]\u001b[0m,\n",
       "        \u001b[1m[\u001b[0m\u001b[1;36m3.4295e-04\u001b[0m, \u001b[1;36m2.6087e-06\u001b[0m, \u001b[1;36m2.6068e-04\u001b[0m,  \u001b[33m...\u001b[0m, \u001b[1;36m2.9111e-03\u001b[0m, \u001b[1;36m9.9335e-04\u001b[0m,\n",
       "         \u001b[1;36m1.7892e-03\u001b[0m\u001b[1m]\u001b[0m,\n",
       "        \u001b[1m[\u001b[0m\u001b[1;36m3.6669e-06\u001b[0m, \u001b[1;36m2.7905e-05\u001b[0m, \u001b[1;36m1.6177e-05\u001b[0m,  \u001b[33m...\u001b[0m, \u001b[1;36m1.1876e-05\u001b[0m, \u001b[1;36m1.1016e-06\u001b[0m,\n",
       "         \u001b[1;36m5.5356e-05\u001b[0m\u001b[1m]\u001b[0m,\n",
       "        \u001b[33m...\u001b[0m,\n",
       "        \u001b[1m[\u001b[0m\u001b[1;36m3.3739e-04\u001b[0m, \u001b[1;36m5.2863e-05\u001b[0m, \u001b[1;36m1.2740e-04\u001b[0m,  \u001b[33m...\u001b[0m, \u001b[1;36m1.5014e-05\u001b[0m, \u001b[1;36m1.9382e-07\u001b[0m,\n",
       "         \u001b[1;36m7.0755e-06\u001b[0m\u001b[1m]\u001b[0m,\n",
       "        \u001b[1m[\u001b[0m\u001b[1;36m1.5546e-09\u001b[0m, \u001b[1;36m1.0746e-05\u001b[0m, \u001b[1;36m5.3797e-05\u001b[0m,  \u001b[33m...\u001b[0m, \u001b[1;36m1.5173e-07\u001b[0m, \u001b[1;36m3.1235e-07\u001b[0m,\n",
       "         \u001b[1;36m2.4252e-05\u001b[0m\u001b[1m]\u001b[0m,\n",
       "        \u001b[1m[\u001b[0m\u001b[1;36m2.4066e-06\u001b[0m, \u001b[1;36m1.0805e-03\u001b[0m, \u001b[1;36m6.7167e-05\u001b[0m,  \u001b[33m...\u001b[0m, \u001b[1;36m6.4321e-05\u001b[0m, \u001b[1;36m2.1308e-05\u001b[0m,\n",
       "         \u001b[1;36m5.5685e-05\u001b[0m\u001b[1m]\u001b[0m\u001b[1m]\u001b[0m\u001b[1m)\u001b[0m\n"
      ]
     },
     "metadata": {},
     "output_type": "display_data"
    },
    {
     "data": {
      "text/html": [
       "<pre style=\"white-space:pre;overflow-x:auto;line-height:normal;font-family:Menlo,'DejaVu Sans Mono',consolas,'Courier New',monospace\"><span style=\"color: #800080; text-decoration-color: #800080; font-weight: bold\">tensor</span><span style=\"font-weight: bold\">(</span><span style=\"color: #008080; text-decoration-color: #008080; font-weight: bold\">11.3531</span><span style=\"font-weight: bold\">)</span>\n",
       "</pre>\n"
      ],
      "text/plain": [
       "\u001b[1;35mtensor\u001b[0m\u001b[1m(\u001b[0m\u001b[1;36m11.3531\u001b[0m\u001b[1m)\u001b[0m\n"
      ]
     },
     "metadata": {},
     "output_type": "display_data"
    }
   ],
   "source": [
    "# softmax -> ce\n",
    "P = F.softmax(logits, dim = 1)\n",
    "print(P)\n",
    "l = -Y * P.log()\n",
    "print(l.sum() / bs)"
   ]
  },
  {
   "cell_type": "code",
   "execution_count": 15,
   "id": "b0219dbb-7073-4779-b199-b7a2f5af4f8e",
   "metadata": {},
   "outputs": [
    {
     "data": {
      "text/html": [
       "<pre style=\"white-space:pre;overflow-x:auto;line-height:normal;font-family:Menlo,'DejaVu Sans Mono',consolas,'Courier New',monospace\"><span style=\"color: #800080; text-decoration-color: #800080; font-weight: bold\">tensor</span><span style=\"font-weight: bold\">(</span><span style=\"color: #008080; text-decoration-color: #008080; font-weight: bold\">11.3531</span><span style=\"font-weight: bold\">)</span>\n",
       "</pre>\n"
      ],
      "text/plain": [
       "\u001b[1;35mtensor\u001b[0m\u001b[1m(\u001b[0m\u001b[1;36m11.3531\u001b[0m\u001b[1m)\u001b[0m\n"
      ]
     },
     "metadata": {},
     "output_type": "display_data"
    }
   ],
   "source": [
    "# logsoftmax -> ce\n",
    "P = F.log_softmax(logits, dim = 1)\n",
    "l = -Y * P\n",
    "print(l.sum() / bs)"
   ]
  },
  {
   "cell_type": "markdown",
   "id": "389a11ce-a84d-41bd-a347-d503c3981538",
   "metadata": {},
   "source": [
    "### Cut Cross Entropy "
   ]
  },
  {
   "cell_type": "markdown",
   "id": "7dda1beb-4fa9-4020-a968-25645cf62ca3",
   "metadata": {},
   "source": [
    "#### forward Gemm"
   ]
  },
  {
   "cell_type": "markdown",
   "id": "89d0676c-e398-4cbc-8946-30cf080fabfc",
   "metadata": {},
   "source": [
    "our target is get  \n",
    "\n",
    "\n",
    "logprob = X @ C - log \\sum_j X[i,:] C[:,j] # row sub\n",
    "\n",
    "the X[i,1] C[1,j] + X[i,2] C[2,j] + X[i,d] C[d,j] + \n",
    "\n",
    "output = -Y * logprob"
   ]
  },
  {
   "cell_type": "code",
   "execution_count": 16,
   "id": "223d1885-bf07-46f8-a6ce-4ed06154ad92",
   "metadata": {},
   "outputs": [],
   "source": [
    "X = E @ C"
   ]
  },
  {
   "cell_type": "code",
   "execution_count": 17,
   "id": "b36328fb-fe3d-4371-8e0c-7a7ca1c58f7f",
   "metadata": {},
   "outputs": [
    {
     "data": {
      "text/html": [
       "<pre style=\"white-space:pre;overflow-x:auto;line-height:normal;font-family:Menlo,'DejaVu Sans Mono',consolas,'Courier New',monospace\"><span style=\"color: #800080; text-decoration-color: #800080; font-weight: bold\">torch.Size</span><span style=\"font-weight: bold\">([</span><span style=\"color: #008080; text-decoration-color: #008080; font-weight: bold\">8</span>, <span style=\"color: #008080; text-decoration-color: #008080; font-weight: bold\">128</span><span style=\"font-weight: bold\">])</span>\n",
       "</pre>\n"
      ],
      "text/plain": [
       "\u001b[1;35mtorch.Size\u001b[0m\u001b[1m(\u001b[0m\u001b[1m[\u001b[0m\u001b[1;36m8\u001b[0m, \u001b[1;36m128\u001b[0m\u001b[1m]\u001b[0m\u001b[1m)\u001b[0m\n"
      ]
     },
     "metadata": {},
     "output_type": "display_data"
    }
   ],
   "source": [
    "print(X.shape)"
   ]
  },
  {
   "cell_type": "code",
   "execution_count": 18,
   "id": "5eb3cdd4-5873-440b-9c40-4f1d68d86282",
   "metadata": {},
   "outputs": [
    {
     "data": {
      "text/html": [
       "<pre style=\"white-space:pre;overflow-x:auto;line-height:normal;font-family:Menlo,'DejaVu Sans Mono',consolas,'Courier New',monospace\"><span style=\"color: #800080; text-decoration-color: #800080; font-weight: bold\">torch.Size</span><span style=\"font-weight: bold\">([</span><span style=\"color: #008080; text-decoration-color: #008080; font-weight: bold\">8</span>, <span style=\"color: #008080; text-decoration-color: #008080; font-weight: bold\">64</span><span style=\"font-weight: bold\">])</span>\n",
       "</pre>\n"
      ],
      "text/plain": [
       "\u001b[1;35mtorch.Size\u001b[0m\u001b[1m(\u001b[0m\u001b[1m[\u001b[0m\u001b[1;36m8\u001b[0m, \u001b[1;36m64\u001b[0m\u001b[1m]\u001b[0m\u001b[1m)\u001b[0m\n"
      ]
     },
     "metadata": {},
     "output_type": "display_data"
    },
    {
     "data": {
      "text/html": [
       "<pre style=\"white-space:pre;overflow-x:auto;line-height:normal;font-family:Menlo,'DejaVu Sans Mono',consolas,'Courier New',monospace\"><span style=\"color: #008080; text-decoration-color: #008080; font-weight: bold\">2</span>\n",
       "</pre>\n"
      ],
      "text/plain": [
       "\u001b[1;36m2\u001b[0m\n"
      ]
     },
     "metadata": {},
     "output_type": "display_data"
    }
   ],
   "source": [
    "X_blocks = torch.split(X, 64, dim = 1)\n",
    "print(X_blocks[0].shape)\n",
    "print(len(X_blocks))"
   ]
  },
  {
   "cell_type": "code",
   "execution_count": 19,
   "id": "84754f0a-afc9-4f4f-9557-c954d68adeba",
   "metadata": {},
   "outputs": [
    {
     "data": {
      "text/html": [
       "<pre style=\"white-space:pre;overflow-x:auto;line-height:normal;font-family:Menlo,'DejaVu Sans Mono',consolas,'Courier New',monospace\"><span style=\"color: #008080; text-decoration-color: #008080; font-weight: bold\">4</span> <span style=\"color: #008080; text-decoration-color: #008080; font-weight: bold\">4</span>\n",
       "</pre>\n"
      ],
      "text/plain": [
       "\u001b[1;36m4\u001b[0m \u001b[1;36m4\u001b[0m\n"
      ]
     },
     "metadata": {},
     "output_type": "display_data"
    },
    {
     "data": {
      "text/html": [
       "<pre style=\"white-space:pre;overflow-x:auto;line-height:normal;font-family:Menlo,'DejaVu Sans Mono',consolas,'Courier New',monospace\"><span style=\"color: #800080; text-decoration-color: #800080; font-weight: bold\">torch.Size</span><span style=\"font-weight: bold\">([</span><span style=\"color: #008080; text-decoration-color: #008080; font-weight: bold\">2</span>, <span style=\"color: #008080; text-decoration-color: #008080; font-weight: bold\">16</span><span style=\"font-weight: bold\">])</span>\n",
       "</pre>\n"
      ],
      "text/plain": [
       "\u001b[1;35mtorch.Size\u001b[0m\u001b[1m(\u001b[0m\u001b[1m[\u001b[0m\u001b[1;36m2\u001b[0m, \u001b[1;36m16\u001b[0m\u001b[1m]\u001b[0m\u001b[1m)\u001b[0m\n"
      ]
     },
     "metadata": {},
     "output_type": "display_data"
    },
    {
     "data": {
      "text/html": [
       "<pre style=\"white-space:pre;overflow-x:auto;line-height:normal;font-family:Menlo,'DejaVu Sans Mono',consolas,'Courier New',monospace\"><span style=\"color: #800080; text-decoration-color: #800080; font-weight: bold\">torch.Size</span><span style=\"font-weight: bold\">([</span><span style=\"color: #008080; text-decoration-color: #008080; font-weight: bold\">16</span>, <span style=\"color: #008080; text-decoration-color: #008080; font-weight: bold\">32</span><span style=\"font-weight: bold\">])</span>\n",
       "</pre>\n"
      ],
      "text/plain": [
       "\u001b[1;35mtorch.Size\u001b[0m\u001b[1m(\u001b[0m\u001b[1m[\u001b[0m\u001b[1;36m16\u001b[0m, \u001b[1;36m32\u001b[0m\u001b[1m]\u001b[0m\u001b[1m)\u001b[0m\n"
      ]
     },
     "metadata": {},
     "output_type": "display_data"
    }
   ],
   "source": [
    "E_blocks = torch.split(E, n_b, dim = 0)\n",
    "C_blocks = torch.split(C, v_b, dim = 1)\n",
    "\n",
    "print(len(E_blocks), len(C_blocks))\n",
    "print(E_blocks[0].shape)\n",
    "print(C_blocks[0].shape)"
   ]
  },
  {
   "cell_type": "code",
   "execution_count": 20,
   "id": "4d61446b-1ac8-4a06-9179-01035c8028f7",
   "metadata": {},
   "outputs": [
    {
     "data": {
      "text/html": [
       "<pre style=\"white-space:pre;overflow-x:auto;line-height:normal;font-family:Menlo,'DejaVu Sans Mono',consolas,'Courier New',monospace\"><span style=\"color: #800080; text-decoration-color: #800080; font-weight: bold\">tensor</span><span style=\"font-weight: bold\">([[</span> <span style=\"color: #008080; text-decoration-color: #008080; font-weight: bold\">3.0742</span>,  <span style=\"color: #008080; text-decoration-color: #008080; font-weight: bold\">2.1026</span>, <span style=\"color: #008080; text-decoration-color: #008080; font-weight: bold\">-2.6899</span>,  <span style=\"color: #008080; text-decoration-color: #008080; font-weight: bold\">2.9976</span>, <span style=\"color: #008080; text-decoration-color: #008080; font-weight: bold\">-7.5066</span><span style=\"font-weight: bold\">]</span>,\n",
       "        <span style=\"font-weight: bold\">[</span> <span style=\"color: #008080; text-decoration-color: #008080; font-weight: bold\">1.0479</span>, <span style=\"color: #008080; text-decoration-color: #008080; font-weight: bold\">-3.8309</span>,  <span style=\"color: #008080; text-decoration-color: #008080; font-weight: bold\">0.7736</span>, <span style=\"color: #008080; text-decoration-color: #008080; font-weight: bold\">-3.0911</span>,  <span style=\"color: #008080; text-decoration-color: #008080; font-weight: bold\">0.1685</span><span style=\"font-weight: bold\">]</span>,\n",
       "        <span style=\"font-weight: bold\">[</span><span style=\"color: #008080; text-decoration-color: #008080; font-weight: bold\">-1.5154</span>,  <span style=\"color: #008080; text-decoration-color: #008080; font-weight: bold\">0.5141</span>, <span style=\"color: #008080; text-decoration-color: #008080; font-weight: bold\">-0.0311</span>, <span style=\"color: #008080; text-decoration-color: #008080; font-weight: bold\">-3.2252</span>,  <span style=\"color: #008080; text-decoration-color: #008080; font-weight: bold\">0.2030</span><span style=\"font-weight: bold\">]</span>,\n",
       "        <span style=\"font-weight: bold\">[</span> <span style=\"color: #008080; text-decoration-color: #008080; font-weight: bold\">0.5123</span>,  <span style=\"color: #008080; text-decoration-color: #008080; font-weight: bold\">0.7709</span>,  <span style=\"color: #008080; text-decoration-color: #008080; font-weight: bold\">1.0622</span>,  <span style=\"color: #008080; text-decoration-color: #008080; font-weight: bold\">1.2311</span>,  <span style=\"color: #008080; text-decoration-color: #008080; font-weight: bold\">2.5214</span><span style=\"font-weight: bold\">]</span>,\n",
       "        <span style=\"font-weight: bold\">[</span> <span style=\"color: #008080; text-decoration-color: #008080; font-weight: bold\">4.7593</span>, <span style=\"color: #008080; text-decoration-color: #008080; font-weight: bold\">-1.5436</span>, <span style=\"color: #008080; text-decoration-color: #008080; font-weight: bold\">-1.4017</span>,  <span style=\"color: #008080; text-decoration-color: #008080; font-weight: bold\">0.5432</span>,  <span style=\"color: #008080; text-decoration-color: #008080; font-weight: bold\">5.5318</span><span style=\"font-weight: bold\">]])</span>\n",
       "</pre>\n"
      ],
      "text/plain": [
       "\u001b[1;35mtensor\u001b[0m\u001b[1m(\u001b[0m\u001b[1m[\u001b[0m\u001b[1m[\u001b[0m \u001b[1;36m3.0742\u001b[0m,  \u001b[1;36m2.1026\u001b[0m, \u001b[1;36m-2.6899\u001b[0m,  \u001b[1;36m2.9976\u001b[0m, \u001b[1;36m-7.5066\u001b[0m\u001b[1m]\u001b[0m,\n",
       "        \u001b[1m[\u001b[0m \u001b[1;36m1.0479\u001b[0m, \u001b[1;36m-3.8309\u001b[0m,  \u001b[1;36m0.7736\u001b[0m, \u001b[1;36m-3.0911\u001b[0m,  \u001b[1;36m0.1685\u001b[0m\u001b[1m]\u001b[0m,\n",
       "        \u001b[1m[\u001b[0m\u001b[1;36m-1.5154\u001b[0m,  \u001b[1;36m0.5141\u001b[0m, \u001b[1;36m-0.0311\u001b[0m, \u001b[1;36m-3.2252\u001b[0m,  \u001b[1;36m0.2030\u001b[0m\u001b[1m]\u001b[0m,\n",
       "        \u001b[1m[\u001b[0m \u001b[1;36m0.5123\u001b[0m,  \u001b[1;36m0.7709\u001b[0m,  \u001b[1;36m1.0622\u001b[0m,  \u001b[1;36m1.2311\u001b[0m,  \u001b[1;36m2.5214\u001b[0m\u001b[1m]\u001b[0m,\n",
       "        \u001b[1m[\u001b[0m \u001b[1;36m4.7593\u001b[0m, \u001b[1;36m-1.5436\u001b[0m, \u001b[1;36m-1.4017\u001b[0m,  \u001b[1;36m0.5432\u001b[0m,  \u001b[1;36m5.5318\u001b[0m\u001b[1m]\u001b[0m\u001b[1m]\u001b[0m\u001b[1m)\u001b[0m\n"
      ]
     },
     "metadata": {},
     "output_type": "display_data"
    }
   ],
   "source": [
    "stand_mm = E @ C\n",
    "print(stand_mm[:5,:5])"
   ]
  },
  {
   "cell_type": "code",
   "execution_count": 21,
   "id": "c1ca6872-626d-4d95-9d3d-d9d04326d010",
   "metadata": {},
   "outputs": [
    {
     "data": {
      "text/html": [
       "<pre style=\"white-space:pre;overflow-x:auto;line-height:normal;font-family:Menlo,'DejaVu Sans Mono',consolas,'Courier New',monospace\"><span style=\"color: #800080; text-decoration-color: #800080; font-weight: bold\">torch.Size</span><span style=\"font-weight: bold\">([</span><span style=\"color: #008080; text-decoration-color: #008080; font-weight: bold\">8</span>, <span style=\"color: #008080; text-decoration-color: #008080; font-weight: bold\">128</span><span style=\"font-weight: bold\">])</span>\n",
       "</pre>\n"
      ],
      "text/plain": [
       "\u001b[1;35mtorch.Size\u001b[0m\u001b[1m(\u001b[0m\u001b[1m[\u001b[0m\u001b[1;36m8\u001b[0m, \u001b[1;36m128\u001b[0m\u001b[1m]\u001b[0m\u001b[1m)\u001b[0m\n"
      ]
     },
     "metadata": {},
     "output_type": "display_data"
    },
    {
     "data": {
      "text/html": [
       "<pre style=\"white-space:pre;overflow-x:auto;line-height:normal;font-family:Menlo,'DejaVu Sans Mono',consolas,'Courier New',monospace\"><span style=\"color: #800080; text-decoration-color: #800080; font-weight: bold\">tensor</span><span style=\"font-weight: bold\">([[</span> <span style=\"color: #008080; text-decoration-color: #008080; font-weight: bold\">3.0742</span>,  <span style=\"color: #008080; text-decoration-color: #008080; font-weight: bold\">2.1026</span>, <span style=\"color: #008080; text-decoration-color: #008080; font-weight: bold\">-2.6899</span>,  <span style=\"color: #008080; text-decoration-color: #008080; font-weight: bold\">2.9976</span>, <span style=\"color: #008080; text-decoration-color: #008080; font-weight: bold\">-7.5066</span><span style=\"font-weight: bold\">]</span>,\n",
       "        <span style=\"font-weight: bold\">[</span> <span style=\"color: #008080; text-decoration-color: #008080; font-weight: bold\">1.0479</span>, <span style=\"color: #008080; text-decoration-color: #008080; font-weight: bold\">-3.8309</span>,  <span style=\"color: #008080; text-decoration-color: #008080; font-weight: bold\">0.7736</span>, <span style=\"color: #008080; text-decoration-color: #008080; font-weight: bold\">-3.0911</span>,  <span style=\"color: #008080; text-decoration-color: #008080; font-weight: bold\">0.1685</span><span style=\"font-weight: bold\">]</span>,\n",
       "        <span style=\"font-weight: bold\">[</span><span style=\"color: #008080; text-decoration-color: #008080; font-weight: bold\">-1.5154</span>,  <span style=\"color: #008080; text-decoration-color: #008080; font-weight: bold\">0.5141</span>, <span style=\"color: #008080; text-decoration-color: #008080; font-weight: bold\">-0.0311</span>, <span style=\"color: #008080; text-decoration-color: #008080; font-weight: bold\">-3.2252</span>,  <span style=\"color: #008080; text-decoration-color: #008080; font-weight: bold\">0.2030</span><span style=\"font-weight: bold\">]</span>,\n",
       "        <span style=\"font-weight: bold\">[</span> <span style=\"color: #008080; text-decoration-color: #008080; font-weight: bold\">0.5123</span>,  <span style=\"color: #008080; text-decoration-color: #008080; font-weight: bold\">0.7709</span>,  <span style=\"color: #008080; text-decoration-color: #008080; font-weight: bold\">1.0622</span>,  <span style=\"color: #008080; text-decoration-color: #008080; font-weight: bold\">1.2311</span>,  <span style=\"color: #008080; text-decoration-color: #008080; font-weight: bold\">2.5214</span><span style=\"font-weight: bold\">]</span>,\n",
       "        <span style=\"font-weight: bold\">[</span> <span style=\"color: #008080; text-decoration-color: #008080; font-weight: bold\">4.7593</span>, <span style=\"color: #008080; text-decoration-color: #008080; font-weight: bold\">-1.5436</span>, <span style=\"color: #008080; text-decoration-color: #008080; font-weight: bold\">-1.4017</span>,  <span style=\"color: #008080; text-decoration-color: #008080; font-weight: bold\">0.5432</span>,  <span style=\"color: #008080; text-decoration-color: #008080; font-weight: bold\">5.5318</span><span style=\"font-weight: bold\">]])</span>\n",
       "</pre>\n"
      ],
      "text/plain": [
       "\u001b[1;35mtensor\u001b[0m\u001b[1m(\u001b[0m\u001b[1m[\u001b[0m\u001b[1m[\u001b[0m \u001b[1;36m3.0742\u001b[0m,  \u001b[1;36m2.1026\u001b[0m, \u001b[1;36m-2.6899\u001b[0m,  \u001b[1;36m2.9976\u001b[0m, \u001b[1;36m-7.5066\u001b[0m\u001b[1m]\u001b[0m,\n",
       "        \u001b[1m[\u001b[0m \u001b[1;36m1.0479\u001b[0m, \u001b[1;36m-3.8309\u001b[0m,  \u001b[1;36m0.7736\u001b[0m, \u001b[1;36m-3.0911\u001b[0m,  \u001b[1;36m0.1685\u001b[0m\u001b[1m]\u001b[0m,\n",
       "        \u001b[1m[\u001b[0m\u001b[1;36m-1.5154\u001b[0m,  \u001b[1;36m0.5141\u001b[0m, \u001b[1;36m-0.0311\u001b[0m, \u001b[1;36m-3.2252\u001b[0m,  \u001b[1;36m0.2030\u001b[0m\u001b[1m]\u001b[0m,\n",
       "        \u001b[1m[\u001b[0m \u001b[1;36m0.5123\u001b[0m,  \u001b[1;36m0.7709\u001b[0m,  \u001b[1;36m1.0622\u001b[0m,  \u001b[1;36m1.2311\u001b[0m,  \u001b[1;36m2.5214\u001b[0m\u001b[1m]\u001b[0m,\n",
       "        \u001b[1m[\u001b[0m \u001b[1;36m4.7593\u001b[0m, \u001b[1;36m-1.5436\u001b[0m, \u001b[1;36m-1.4017\u001b[0m,  \u001b[1;36m0.5432\u001b[0m,  \u001b[1;36m5.5318\u001b[0m\u001b[1m]\u001b[0m\u001b[1m]\u001b[0m\u001b[1m)\u001b[0m\n"
      ]
     },
     "metadata": {},
     "output_type": "display_data"
    }
   ],
   "source": [
    "# CCE : Algorithm 1\n",
    "\n",
    "O = torch.zeros(bs, v)\n",
    "O_blocks = torch.split(O, n_b, dim = 0)\n",
    "O_result = []\n",
    "\n",
    "for e, o in zip(E_blocks, O_blocks): # i\n",
    "    e_d_blocks = torch.split(e, d_b, dim = 1)\n",
    "    c_blocks = torch.split(C, d_b, dim = 0)\n",
    "    for ed, cd in zip(e_d_blocks, c_blocks): # \n",
    "        p = ed @ cd\n",
    "        o = o + p\n",
    "    O_result.append(o)\n",
    "\n",
    "O_mat = torch.cat(O_result, dim = 0)\n",
    "print(O_mat.shape)\n",
    "\n",
    "print(O_mat[:5,:5])"
   ]
  },
  {
   "cell_type": "markdown",
   "id": "f2b0f833-3259-4af9-b046-797c67231c58",
   "metadata": {},
   "source": [
    "#### forward logsoftmax"
   ]
  },
  {
   "cell_type": "markdown",
   "id": "ca6a3395-cc9c-4212-907d-4fbe76cdf18f",
   "metadata": {},
   "source": [
    "Original LSE"
   ]
  },
  {
   "cell_type": "code",
   "execution_count": 22,
   "id": "251b84f1-c409-4750-8224-966cdc3c5948",
   "metadata": {},
   "outputs": [
    {
     "data": {
      "text/html": [
       "<pre style=\"white-space:pre;overflow-x:auto;line-height:normal;font-family:Menlo,'DejaVu Sans Mono',consolas,'Courier New',monospace\"><span style=\"color: #800080; text-decoration-color: #800080; font-weight: bold\">tensor</span><span style=\"font-weight: bold\">([[</span><span style=\"color: #008080; text-decoration-color: #008080; font-weight: bold\">15.0977</span><span style=\"font-weight: bold\">]</span>,\n",
       "        <span style=\"font-weight: bold\">[</span> <span style=\"color: #008080; text-decoration-color: #008080; font-weight: bold\">9.0258</span><span style=\"font-weight: bold\">]</span>,\n",
       "        <span style=\"font-weight: bold\">[</span><span style=\"color: #008080; text-decoration-color: #008080; font-weight: bold\">11.0008</span><span style=\"font-weight: bold\">]</span>,\n",
       "        <span style=\"font-weight: bold\">[</span> <span style=\"color: #008080; text-decoration-color: #008080; font-weight: bold\">9.5224</span><span style=\"font-weight: bold\">]</span>,\n",
       "        <span style=\"font-weight: bold\">[</span><span style=\"color: #008080; text-decoration-color: #008080; font-weight: bold\">12.4312</span><span style=\"font-weight: bold\">]</span>,\n",
       "        <span style=\"font-weight: bold\">[</span> <span style=\"color: #008080; text-decoration-color: #008080; font-weight: bold\">9.7486</span><span style=\"font-weight: bold\">]</span>,\n",
       "        <span style=\"font-weight: bold\">[</span><span style=\"color: #008080; text-decoration-color: #008080; font-weight: bold\">14.1608</span><span style=\"font-weight: bold\">]</span>,\n",
       "        <span style=\"font-weight: bold\">[</span> <span style=\"color: #008080; text-decoration-color: #008080; font-weight: bold\">9.5511</span><span style=\"font-weight: bold\">]])</span>\n",
       "</pre>\n"
      ],
      "text/plain": [
       "\u001b[1;35mtensor\u001b[0m\u001b[1m(\u001b[0m\u001b[1m[\u001b[0m\u001b[1m[\u001b[0m\u001b[1;36m15.0977\u001b[0m\u001b[1m]\u001b[0m,\n",
       "        \u001b[1m[\u001b[0m \u001b[1;36m9.0258\u001b[0m\u001b[1m]\u001b[0m,\n",
       "        \u001b[1m[\u001b[0m\u001b[1;36m11.0008\u001b[0m\u001b[1m]\u001b[0m,\n",
       "        \u001b[1m[\u001b[0m \u001b[1;36m9.5224\u001b[0m\u001b[1m]\u001b[0m,\n",
       "        \u001b[1m[\u001b[0m\u001b[1;36m12.4312\u001b[0m\u001b[1m]\u001b[0m,\n",
       "        \u001b[1m[\u001b[0m \u001b[1;36m9.7486\u001b[0m\u001b[1m]\u001b[0m,\n",
       "        \u001b[1m[\u001b[0m\u001b[1;36m14.1608\u001b[0m\u001b[1m]\u001b[0m,\n",
       "        \u001b[1m[\u001b[0m \u001b[1;36m9.5511\u001b[0m\u001b[1m]\u001b[0m\u001b[1m]\u001b[0m\u001b[1m)\u001b[0m\n"
      ]
     },
     "metadata": {},
     "output_type": "display_data"
    }
   ],
   "source": [
    "A = E @ C \n",
    "LSE = torch.log( torch.sum( torch.exp(A), dim = 1, keepdim=True ) )\n",
    "print(LSE)"
   ]
  },
  {
   "cell_type": "code",
   "execution_count": 23,
   "id": "b66582e4-85b8-4a6f-961e-42a1335f8ee6",
   "metadata": {},
   "outputs": [
    {
     "data": {
      "text/html": [
       "<pre style=\"white-space:pre;overflow-x:auto;line-height:normal;font-family:Menlo,'DejaVu Sans Mono',consolas,'Courier New',monospace\"><span style=\"color: #800080; text-decoration-color: #800080; font-weight: bold\">torch.Size</span><span style=\"font-weight: bold\">([</span><span style=\"color: #008080; text-decoration-color: #008080; font-weight: bold\">8</span>, <span style=\"color: #008080; text-decoration-color: #008080; font-weight: bold\">1</span><span style=\"font-weight: bold\">])</span>\n",
       "</pre>\n"
      ],
      "text/plain": [
       "\u001b[1;35mtorch.Size\u001b[0m\u001b[1m(\u001b[0m\u001b[1m[\u001b[0m\u001b[1;36m8\u001b[0m, \u001b[1;36m1\u001b[0m\u001b[1m]\u001b[0m\u001b[1m)\u001b[0m\n"
      ]
     },
     "metadata": {},
     "output_type": "display_data"
    },
    {
     "data": {
      "text/html": [
       "<pre style=\"white-space:pre;overflow-x:auto;line-height:normal;font-family:Menlo,'DejaVu Sans Mono',consolas,'Courier New',monospace\"><span style=\"color: #800080; text-decoration-color: #800080; font-weight: bold\">tensor</span><span style=\"font-weight: bold\">([[</span><span style=\"color: #008080; text-decoration-color: #008080; font-weight: bold\">15.0977</span><span style=\"font-weight: bold\">]</span>,\n",
       "        <span style=\"font-weight: bold\">[</span> <span style=\"color: #008080; text-decoration-color: #008080; font-weight: bold\">9.0258</span><span style=\"font-weight: bold\">]</span>,\n",
       "        <span style=\"font-weight: bold\">[</span><span style=\"color: #008080; text-decoration-color: #008080; font-weight: bold\">11.0008</span><span style=\"font-weight: bold\">]</span>,\n",
       "        <span style=\"font-weight: bold\">[</span> <span style=\"color: #008080; text-decoration-color: #008080; font-weight: bold\">9.5224</span><span style=\"font-weight: bold\">]</span>,\n",
       "        <span style=\"font-weight: bold\">[</span><span style=\"color: #008080; text-decoration-color: #008080; font-weight: bold\">12.4312</span><span style=\"font-weight: bold\">]</span>,\n",
       "        <span style=\"font-weight: bold\">[</span> <span style=\"color: #008080; text-decoration-color: #008080; font-weight: bold\">9.7486</span><span style=\"font-weight: bold\">]</span>,\n",
       "        <span style=\"font-weight: bold\">[</span><span style=\"color: #008080; text-decoration-color: #008080; font-weight: bold\">14.1608</span><span style=\"font-weight: bold\">]</span>,\n",
       "        <span style=\"font-weight: bold\">[</span> <span style=\"color: #008080; text-decoration-color: #008080; font-weight: bold\">9.5511</span><span style=\"font-weight: bold\">]])</span>\n",
       "</pre>\n"
      ],
      "text/plain": [
       "\u001b[1;35mtensor\u001b[0m\u001b[1m(\u001b[0m\u001b[1m[\u001b[0m\u001b[1m[\u001b[0m\u001b[1;36m15.0977\u001b[0m\u001b[1m]\u001b[0m,\n",
       "        \u001b[1m[\u001b[0m \u001b[1;36m9.0258\u001b[0m\u001b[1m]\u001b[0m,\n",
       "        \u001b[1m[\u001b[0m\u001b[1;36m11.0008\u001b[0m\u001b[1m]\u001b[0m,\n",
       "        \u001b[1m[\u001b[0m \u001b[1;36m9.5224\u001b[0m\u001b[1m]\u001b[0m,\n",
       "        \u001b[1m[\u001b[0m\u001b[1;36m12.4312\u001b[0m\u001b[1m]\u001b[0m,\n",
       "        \u001b[1m[\u001b[0m \u001b[1;36m9.7486\u001b[0m\u001b[1m]\u001b[0m,\n",
       "        \u001b[1m[\u001b[0m\u001b[1;36m14.1608\u001b[0m\u001b[1m]\u001b[0m,\n",
       "        \u001b[1m[\u001b[0m \u001b[1;36m9.5511\u001b[0m\u001b[1m]\u001b[0m\u001b[1m]\u001b[0m\u001b[1m)\u001b[0m\n"
      ]
     },
     "metadata": {},
     "output_type": "display_data"
    }
   ],
   "source": [
    "# CCE : Algorithm 2\n",
    "\n",
    "LSE = torch.ones(bs, 1) * -100000.0 # -inf\n",
    "\n",
    "# LSE part\n",
    "for n, e in enumerate(E_blocks):\n",
    "    for v, c in enumerate(C_blocks):\n",
    "        A = torch.zeros(n_b, v_b)\n",
    "        e_d_blocks = torch.split(e, d_b, dim = 1)\n",
    "        c_d_blocks = torch.split(c, d_b, dim = 0)\n",
    "        for ed, cd in zip(e_d_blocks, c_d_blocks):\n",
    "            A += ed @ cd\n",
    "        LSE_nv = torch.log( torch.sum( torch.exp(A), dim = 1, keepdim=True ) )\n",
    "        LSE[n_b * n : n_b * (n+1)] = torch.log( torch.exp(LSE[n_b * n : n_b * (n+1)]) \n",
    "                                            + torch.exp(LSE_nv)\n",
    "                                            )\n",
    "print(LSE.shape)\n",
    "print(LSE)"
   ]
  },
  {
   "cell_type": "markdown",
   "id": "4c96a6ee-64d1-4679-8a01-cdf116109ee3",
   "metadata": {},
   "source": [
    "#### Backward"
   ]
  },
  {
   "cell_type": "code",
   "execution_count": 24,
   "id": "05020dff-dd1a-4d84-8bba-469bb4fec373",
   "metadata": {},
   "outputs": [
    {
     "data": {
      "text/html": [
       "<pre style=\"white-space:pre;overflow-x:auto;line-height:normal;font-family:Menlo,'DejaVu Sans Mono',consolas,'Courier New',monospace\"><span style=\"color: #008080; text-decoration-color: #008080; font-weight: bold\">2</span>\n",
       "</pre>\n"
      ],
      "text/plain": [
       "\u001b[1;36m2\u001b[0m\n"
      ]
     },
     "metadata": {},
     "output_type": "display_data"
    },
    {
     "data": {
      "text/html": [
       "<pre style=\"white-space:pre;overflow-x:auto;line-height:normal;font-family:Menlo,'DejaVu Sans Mono',consolas,'Courier New',monospace\"><span style=\"color: #008080; text-decoration-color: #008080; font-weight: bold\">4</span>\n",
       "</pre>\n"
      ],
      "text/plain": [
       "\u001b[1;36m4\u001b[0m\n"
      ]
     },
     "metadata": {},
     "output_type": "display_data"
    },
    {
     "data": {
      "text/html": [
       "<pre style=\"white-space:pre;overflow-x:auto;line-height:normal;font-family:Menlo,'DejaVu Sans Mono',consolas,'Courier New',monospace\"><span style=\"color: #008080; text-decoration-color: #008080; font-weight: bold\">32</span>\n",
       "</pre>\n"
      ],
      "text/plain": [
       "\u001b[1;36m32\u001b[0m\n"
      ]
     },
     "metadata": {},
     "output_type": "display_data"
    }
   ],
   "source": [
    "v = 128\n",
    "d = 16\n",
    "bs = 8\n",
    "block_size = 4\n",
    "n_b = bs // block_size\n",
    "d_b = d // block_size\n",
    "v_b = v // block_size\n",
    "\n",
    "print(n_b)\n",
    "print(d_b)\n",
    "print(v_b)"
   ]
  },
  {
   "cell_type": "markdown",
   "id": "24289033-2754-4cd9-bad8-1577aaf294dc",
   "metadata": {},
   "source": [
    "#### standard backward"
   ]
  },
  {
   "cell_type": "code",
   "execution_count": 25,
   "id": "b008f356-49ca-4cd0-ace6-90b6bb6ff5bf",
   "metadata": {},
   "outputs": [
    {
     "data": {
      "text/html": [
       "<pre style=\"white-space:pre;overflow-x:auto;line-height:normal;font-family:Menlo,'DejaVu Sans Mono',consolas,'Courier New',monospace\"><span style=\"color: #800080; text-decoration-color: #800080; font-weight: bold\">tensor</span><span style=\"font-weight: bold\">(</span><span style=\"color: #008080; text-decoration-color: #008080; font-weight: bold\">0.0914</span><span style=\"font-weight: bold\">)</span>\n",
       "</pre>\n"
      ],
      "text/plain": [
       "\u001b[1;35mtensor\u001b[0m\u001b[1m(\u001b[0m\u001b[1;36m0.0914\u001b[0m\u001b[1m)\u001b[0m\n"
      ]
     },
     "metadata": {},
     "output_type": "display_data"
    }
   ],
   "source": [
    "# basic backward\n",
    "# P = softmax(E @ C, dim = 1)\n",
    "# loss = - Y * torch.log(P)\n",
    "\n",
    "Y = torch.randn(bs, v)\n",
    "Y = torch.softmax(Y, dim = 1)\n",
    "\n",
    "X = E @ C\n",
    "P = torch.softmax(X, dim = 1)\n",
    "\n",
    "loss = (- Y * torch.log(P)).mean()\n",
    "print(loss)"
   ]
  },
  {
   "cell_type": "code",
   "execution_count": 26,
   "id": "f1e89020-c511-41ef-a5bb-ba7d6d02feaa",
   "metadata": {},
   "outputs": [
    {
     "data": {
      "text/html": [
       "<pre style=\"white-space:pre;overflow-x:auto;line-height:normal;font-family:Menlo,'DejaVu Sans Mono',consolas,'Courier New',monospace\"><span style=\"color: #800080; text-decoration-color: #800080; font-weight: bold\">torch.Size</span><span style=\"font-weight: bold\">([</span><span style=\"color: #008080; text-decoration-color: #008080; font-weight: bold\">8</span>, <span style=\"color: #008080; text-decoration-color: #008080; font-weight: bold\">128</span><span style=\"font-weight: bold\">])</span>\n",
       "</pre>\n"
      ],
      "text/plain": [
       "\u001b[1;35mtorch.Size\u001b[0m\u001b[1m(\u001b[0m\u001b[1m[\u001b[0m\u001b[1;36m8\u001b[0m, \u001b[1;36m128\u001b[0m\u001b[1m]\u001b[0m\u001b[1m)\u001b[0m\n"
      ]
     },
     "metadata": {},
     "output_type": "display_data"
    },
    {
     "data": {
      "text/html": [
       "<pre style=\"white-space:pre;overflow-x:auto;line-height:normal;font-family:Menlo,'DejaVu Sans Mono',consolas,'Courier New',monospace\"><span style=\"color: #800080; text-decoration-color: #800080; font-weight: bold\">tensor</span><span style=\"font-weight: bold\">([[</span><span style=\"color: #008080; text-decoration-color: #008080; font-weight: bold\">-3.0774e-06</span>,  <span style=\"color: #008080; text-decoration-color: #008080; font-weight: bold\">1.6830e-03</span>, <span style=\"color: #008080; text-decoration-color: #008080; font-weight: bold\">-1.3377e-03</span>, <span style=\"color: #008080; text-decoration-color: #008080; font-weight: bold\">-1.8160e-04</span>, <span style=\"color: #008080; text-decoration-color: #008080; font-weight: bold\">-3.0330e-04</span><span style=\"font-weight: bold\">]</span>,\n",
       "        <span style=\"font-weight: bold\">[</span><span style=\"color: #008080; text-decoration-color: #008080; font-weight: bold\">-9.2404e-04</span>, <span style=\"color: #008080; text-decoration-color: #008080; font-weight: bold\">-8.7230e-04</span>, <span style=\"color: #008080; text-decoration-color: #008080; font-weight: bold\">-1.0772e-03</span>, <span style=\"color: #008080; text-decoration-color: #008080; font-weight: bold\">-1.4970e-05</span>, <span style=\"color: #008080; text-decoration-color: #008080; font-weight: bold\">-5.5368e-04</span><span style=\"font-weight: bold\">]</span>,\n",
       "        <span style=\"font-weight: bold\">[</span><span style=\"color: #008080; text-decoration-color: #008080; font-weight: bold\">-3.1002e-04</span>,  <span style=\"color: #008080; text-decoration-color: #008080; font-weight: bold\">4.5423e-04</span>,  <span style=\"color: #008080; text-decoration-color: #008080; font-weight: bold\">1.7460e-04</span>, <span style=\"color: #008080; text-decoration-color: #008080; font-weight: bold\">-5.0915e-04</span>, <span style=\"color: #008080; text-decoration-color: #008080; font-weight: bold\">-6.3905e-04</span><span style=\"font-weight: bold\">]</span>,\n",
       "        <span style=\"font-weight: bold\">[</span><span style=\"color: #008080; text-decoration-color: #008080; font-weight: bold\">-7.9295e-04</span>, <span style=\"color: #008080; text-decoration-color: #008080; font-weight: bold\">-2.0689e-03</span>, <span style=\"color: #008080; text-decoration-color: #008080; font-weight: bold\">-6.9289e-04</span>, <span style=\"color: #008080; text-decoration-color: #008080; font-weight: bold\">-7.2696e-04</span>,  <span style=\"color: #008080; text-decoration-color: #008080; font-weight: bold\">1.1507e-03</span><span style=\"font-weight: bold\">]</span>,\n",
       "        <span style=\"font-weight: bold\">[</span><span style=\"color: #008080; text-decoration-color: #008080; font-weight: bold\">-1.9385e-03</span>, <span style=\"color: #008080; text-decoration-color: #008080; font-weight: bold\">-2.7085e-03</span>, <span style=\"color: #008080; text-decoration-color: #008080; font-weight: bold\">-7.6056e-04</span>, <span style=\"color: #008080; text-decoration-color: #008080; font-weight: bold\">-4.4964e-04</span>, <span style=\"color: #008080; text-decoration-color: #008080; font-weight: bold\">-4.5431e-04</span><span style=\"font-weight: bold\">]])</span>\n",
       "</pre>\n"
      ],
      "text/plain": [
       "\u001b[1;35mtensor\u001b[0m\u001b[1m(\u001b[0m\u001b[1m[\u001b[0m\u001b[1m[\u001b[0m\u001b[1;36m-3.0774e-06\u001b[0m,  \u001b[1;36m1.6830e-03\u001b[0m, \u001b[1;36m-1.3377e-03\u001b[0m, \u001b[1;36m-1.8160e-04\u001b[0m, \u001b[1;36m-3.0330e-04\u001b[0m\u001b[1m]\u001b[0m,\n",
       "        \u001b[1m[\u001b[0m\u001b[1;36m-9.2404e-04\u001b[0m, \u001b[1;36m-8.7230e-04\u001b[0m, \u001b[1;36m-1.0772e-03\u001b[0m, \u001b[1;36m-1.4970e-05\u001b[0m, \u001b[1;36m-5.5368e-04\u001b[0m\u001b[1m]\u001b[0m,\n",
       "        \u001b[1m[\u001b[0m\u001b[1;36m-3.1002e-04\u001b[0m,  \u001b[1;36m4.5423e-04\u001b[0m,  \u001b[1;36m1.7460e-04\u001b[0m, \u001b[1;36m-5.0915e-04\u001b[0m, \u001b[1;36m-6.3905e-04\u001b[0m\u001b[1m]\u001b[0m,\n",
       "        \u001b[1m[\u001b[0m\u001b[1;36m-7.9295e-04\u001b[0m, \u001b[1;36m-2.0689e-03\u001b[0m, \u001b[1;36m-6.9289e-04\u001b[0m, \u001b[1;36m-7.2696e-04\u001b[0m,  \u001b[1;36m1.1507e-03\u001b[0m\u001b[1m]\u001b[0m,\n",
       "        \u001b[1m[\u001b[0m\u001b[1;36m-1.9385e-03\u001b[0m, \u001b[1;36m-2.7085e-03\u001b[0m, \u001b[1;36m-7.6056e-04\u001b[0m, \u001b[1;36m-4.4964e-04\u001b[0m, \u001b[1;36m-4.5431e-04\u001b[0m\u001b[1m]\u001b[0m\u001b[1m]\u001b[0m\u001b[1m)\u001b[0m\n"
      ]
     },
     "metadata": {},
     "output_type": "display_data"
    },
    {
     "data": {
      "text/html": [
       "<pre style=\"white-space:pre;overflow-x:auto;line-height:normal;font-family:Menlo,'DejaVu Sans Mono',consolas,'Courier New',monospace\"><span style=\"color: #800080; text-decoration-color: #800080; font-weight: bold\">tensor</span><span style=\"font-weight: bold\">([[</span> <span style=\"color: #008080; text-decoration-color: #008080; font-weight: bold\">3.2876e-05</span>,  <span style=\"color: #008080; text-decoration-color: #008080; font-weight: bold\">1.1341e-04</span>,  <span style=\"color: #008080; text-decoration-color: #008080; font-weight: bold\">2.4314e-05</span>,  <span style=\"color: #008080; text-decoration-color: #008080; font-weight: bold\">2.4401e-05</span>,  <span style=\"color: #008080; text-decoration-color: #008080; font-weight: bold\">9.0846e-05</span><span style=\"font-weight: bold\">]</span>,\n",
       "        <span style=\"font-weight: bold\">[</span><span style=\"color: #008080; text-decoration-color: #008080; font-weight: bold\">-1.6622e-05</span>,  <span style=\"color: #008080; text-decoration-color: #008080; font-weight: bold\">2.6949e-05</span>,  <span style=\"color: #008080; text-decoration-color: #008080; font-weight: bold\">2.7279e-05</span>,  <span style=\"color: #008080; text-decoration-color: #008080; font-weight: bold\">2.2369e-05</span>,  <span style=\"color: #008080; text-decoration-color: #008080; font-weight: bold\">3.7877e-06</span><span style=\"font-weight: bold\">]</span>,\n",
       "        <span style=\"font-weight: bold\">[</span> <span style=\"color: #008080; text-decoration-color: #008080; font-weight: bold\">1.0191e-05</span>,  <span style=\"color: #008080; text-decoration-color: #008080; font-weight: bold\">4.7310e-05</span>,  <span style=\"color: #008080; text-decoration-color: #008080; font-weight: bold\">6.9686e-06</span>,  <span style=\"color: #008080; text-decoration-color: #008080; font-weight: bold\">1.1149e-06</span>,  <span style=\"color: #008080; text-decoration-color: #008080; font-weight: bold\">2.8567e-05</span><span style=\"font-weight: bold\">]</span>,\n",
       "        <span style=\"font-weight: bold\">[</span> <span style=\"color: #008080; text-decoration-color: #008080; font-weight: bold\">2.4554e-05</span>,  <span style=\"color: #008080; text-decoration-color: #008080; font-weight: bold\">8.1344e-05</span>,  <span style=\"color: #008080; text-decoration-color: #008080; font-weight: bold\">2.4788e-05</span>,  <span style=\"color: #008080; text-decoration-color: #008080; font-weight: bold\">1.9775e-05</span>,  <span style=\"color: #008080; text-decoration-color: #008080; font-weight: bold\">3.3926e-05</span><span style=\"font-weight: bold\">]</span>,\n",
       "        <span style=\"font-weight: bold\">[</span> <span style=\"color: #008080; text-decoration-color: #008080; font-weight: bold\">7.2091e-06</span>,  <span style=\"color: #008080; text-decoration-color: #008080; font-weight: bold\">2.9094e-05</span>,  <span style=\"color: #008080; text-decoration-color: #008080; font-weight: bold\">8.7493e-06</span>,  <span style=\"color: #008080; text-decoration-color: #008080; font-weight: bold\">2.1335e-05</span>, <span style=\"color: #008080; text-decoration-color: #008080; font-weight: bold\">-1.6757e-05</span><span style=\"font-weight: bold\">]])</span>\n",
       "</pre>\n"
      ],
      "text/plain": [
       "\u001b[1;35mtensor\u001b[0m\u001b[1m(\u001b[0m\u001b[1m[\u001b[0m\u001b[1m[\u001b[0m \u001b[1;36m3.2876e-05\u001b[0m,  \u001b[1;36m1.1341e-04\u001b[0m,  \u001b[1;36m2.4314e-05\u001b[0m,  \u001b[1;36m2.4401e-05\u001b[0m,  \u001b[1;36m9.0846e-05\u001b[0m\u001b[1m]\u001b[0m,\n",
       "        \u001b[1m[\u001b[0m\u001b[1;36m-1.6622e-05\u001b[0m,  \u001b[1;36m2.6949e-05\u001b[0m,  \u001b[1;36m2.7279e-05\u001b[0m,  \u001b[1;36m2.2369e-05\u001b[0m,  \u001b[1;36m3.7877e-06\u001b[0m\u001b[1m]\u001b[0m,\n",
       "        \u001b[1m[\u001b[0m \u001b[1;36m1.0191e-05\u001b[0m,  \u001b[1;36m4.7310e-05\u001b[0m,  \u001b[1;36m6.9686e-06\u001b[0m,  \u001b[1;36m1.1149e-06\u001b[0m,  \u001b[1;36m2.8567e-05\u001b[0m\u001b[1m]\u001b[0m,\n",
       "        \u001b[1m[\u001b[0m \u001b[1;36m2.4554e-05\u001b[0m,  \u001b[1;36m8.1344e-05\u001b[0m,  \u001b[1;36m2.4788e-05\u001b[0m,  \u001b[1;36m1.9775e-05\u001b[0m,  \u001b[1;36m3.3926e-05\u001b[0m\u001b[1m]\u001b[0m,\n",
       "        \u001b[1m[\u001b[0m \u001b[1;36m7.2091e-06\u001b[0m,  \u001b[1;36m2.9094e-05\u001b[0m,  \u001b[1;36m8.7493e-06\u001b[0m,  \u001b[1;36m2.1335e-05\u001b[0m, \u001b[1;36m-1.6757e-05\u001b[0m\u001b[1m]\u001b[0m\u001b[1m]\u001b[0m\u001b[1m)\u001b[0m\n"
      ]
     },
     "metadata": {},
     "output_type": "display_data"
    }
   ],
   "source": [
    "# Stand backward\n",
    "N = bs * v\n",
    "\n",
    "dP = (P - Y) / N\n",
    "dPdX = torch.ones(v, v)\n",
    "for i in range(bs):\n",
    "    dPdX += torch.diag(P[i,:]) - torch.outer(P[i,:], P[i,:]) \n",
    "\n",
    "dX = dP @ dPdX \n",
    "print(dX.shape)\n",
    "\n",
    "dE = dP @ C.t()\n",
    "dC = E.t() @ dP \n",
    "\n",
    "print(dE[:5,:5])\n",
    "print(dC[:5,:5])\n"
   ]
  },
  {
   "cell_type": "markdown",
   "id": "4cef7c1c-1d2f-4c7d-8e63-6bf39ad02c60",
   "metadata": {},
   "source": [
    "#### LSE Backward"
   ]
  },
  {
   "cell_type": "code",
   "execution_count": 27,
   "id": "5744f1f9-418f-4731-a850-c3880b018399",
   "metadata": {},
   "outputs": [
    {
     "data": {
      "text/html": [
       "<pre style=\"white-space:pre;overflow-x:auto;line-height:normal;font-family:Menlo,'DejaVu Sans Mono',consolas,'Courier New',monospace\"><span style=\"color: #800080; text-decoration-color: #800080; font-weight: bold\">tensor</span><span style=\"font-weight: bold\">([[</span><span style=\"color: #008080; text-decoration-color: #008080; font-weight: bold\">15.0977</span><span style=\"font-weight: bold\">]</span>,\n",
       "        <span style=\"font-weight: bold\">[</span> <span style=\"color: #008080; text-decoration-color: #008080; font-weight: bold\">9.0258</span><span style=\"font-weight: bold\">]</span>,\n",
       "        <span style=\"font-weight: bold\">[</span><span style=\"color: #008080; text-decoration-color: #008080; font-weight: bold\">11.0008</span><span style=\"font-weight: bold\">]</span>,\n",
       "        <span style=\"font-weight: bold\">[</span> <span style=\"color: #008080; text-decoration-color: #008080; font-weight: bold\">9.5224</span><span style=\"font-weight: bold\">]</span>,\n",
       "        <span style=\"font-weight: bold\">[</span><span style=\"color: #008080; text-decoration-color: #008080; font-weight: bold\">12.4312</span><span style=\"font-weight: bold\">]</span>,\n",
       "        <span style=\"font-weight: bold\">[</span> <span style=\"color: #008080; text-decoration-color: #008080; font-weight: bold\">9.7486</span><span style=\"font-weight: bold\">]</span>,\n",
       "        <span style=\"font-weight: bold\">[</span><span style=\"color: #008080; text-decoration-color: #008080; font-weight: bold\">14.1608</span><span style=\"font-weight: bold\">]</span>,\n",
       "        <span style=\"font-weight: bold\">[</span> <span style=\"color: #008080; text-decoration-color: #008080; font-weight: bold\">9.5511</span><span style=\"font-weight: bold\">]])</span>\n",
       "</pre>\n"
      ],
      "text/plain": [
       "\u001b[1;35mtensor\u001b[0m\u001b[1m(\u001b[0m\u001b[1m[\u001b[0m\u001b[1m[\u001b[0m\u001b[1;36m15.0977\u001b[0m\u001b[1m]\u001b[0m,\n",
       "        \u001b[1m[\u001b[0m \u001b[1;36m9.0258\u001b[0m\u001b[1m]\u001b[0m,\n",
       "        \u001b[1m[\u001b[0m\u001b[1;36m11.0008\u001b[0m\u001b[1m]\u001b[0m,\n",
       "        \u001b[1m[\u001b[0m \u001b[1;36m9.5224\u001b[0m\u001b[1m]\u001b[0m,\n",
       "        \u001b[1m[\u001b[0m\u001b[1;36m12.4312\u001b[0m\u001b[1m]\u001b[0m,\n",
       "        \u001b[1m[\u001b[0m \u001b[1;36m9.7486\u001b[0m\u001b[1m]\u001b[0m,\n",
       "        \u001b[1m[\u001b[0m\u001b[1;36m14.1608\u001b[0m\u001b[1m]\u001b[0m,\n",
       "        \u001b[1m[\u001b[0m \u001b[1;36m9.5511\u001b[0m\u001b[1m]\u001b[0m\u001b[1m]\u001b[0m\u001b[1m)\u001b[0m\n"
      ]
     },
     "metadata": {},
     "output_type": "display_data"
    },
    {
     "data": {
      "text/html": [
       "<pre style=\"white-space:pre;overflow-x:auto;line-height:normal;font-family:Menlo,'DejaVu Sans Mono',consolas,'Courier New',monospace\"><span style=\"color: #800080; text-decoration-color: #800080; font-weight: bold\">tensor</span><span style=\"font-weight: bold\">(</span><span style=\"color: #008080; text-decoration-color: #008080; font-weight: bold\">0.0914</span><span style=\"font-weight: bold\">)</span>\n",
       "</pre>\n"
      ],
      "text/plain": [
       "\u001b[1;35mtensor\u001b[0m\u001b[1m(\u001b[0m\u001b[1;36m0.0914\u001b[0m\u001b[1m)\u001b[0m\n"
      ]
     },
     "metadata": {},
     "output_type": "display_data"
    }
   ],
   "source": [
    "X = E @ C\n",
    "LSE = torch.log(torch.sum( torch.exp(X), dim = 1, keepdim = True))\n",
    "print(LSE)\n",
    "P = X - LSE # 逐行减去LSE\n",
    "loss = (- Y * P) # (-Y * X + Y * LSE)\n",
    "print(loss.mean() )\n"
   ]
  },
  {
   "cell_type": "code",
   "execution_count": 28,
   "id": "6fd77d80-a146-410f-acd9-34ca19a5a937",
   "metadata": {},
   "outputs": [
    {
     "data": {
      "text/html": [
       "<pre style=\"white-space:pre;overflow-x:auto;line-height:normal;font-family:Menlo,'DejaVu Sans Mono',consolas,'Courier New',monospace\"><span style=\"color: #800080; text-decoration-color: #800080; font-weight: bold\">tensor</span><span style=\"font-weight: bold\">([[</span><span style=\"color: #008080; text-decoration-color: #008080; font-weight: bold\">-3.0774e-06</span>,  <span style=\"color: #008080; text-decoration-color: #008080; font-weight: bold\">1.6830e-03</span>, <span style=\"color: #008080; text-decoration-color: #008080; font-weight: bold\">-1.3377e-03</span>, <span style=\"color: #008080; text-decoration-color: #008080; font-weight: bold\">-1.8160e-04</span>, <span style=\"color: #008080; text-decoration-color: #008080; font-weight: bold\">-3.0330e-04</span><span style=\"font-weight: bold\">]</span>,\n",
       "        <span style=\"font-weight: bold\">[</span><span style=\"color: #008080; text-decoration-color: #008080; font-weight: bold\">-9.2404e-04</span>, <span style=\"color: #008080; text-decoration-color: #008080; font-weight: bold\">-8.7230e-04</span>, <span style=\"color: #008080; text-decoration-color: #008080; font-weight: bold\">-1.0772e-03</span>, <span style=\"color: #008080; text-decoration-color: #008080; font-weight: bold\">-1.4970e-05</span>, <span style=\"color: #008080; text-decoration-color: #008080; font-weight: bold\">-5.5368e-04</span><span style=\"font-weight: bold\">]</span>,\n",
       "        <span style=\"font-weight: bold\">[</span><span style=\"color: #008080; text-decoration-color: #008080; font-weight: bold\">-3.1002e-04</span>,  <span style=\"color: #008080; text-decoration-color: #008080; font-weight: bold\">4.5423e-04</span>,  <span style=\"color: #008080; text-decoration-color: #008080; font-weight: bold\">1.7460e-04</span>, <span style=\"color: #008080; text-decoration-color: #008080; font-weight: bold\">-5.0915e-04</span>, <span style=\"color: #008080; text-decoration-color: #008080; font-weight: bold\">-6.3905e-04</span><span style=\"font-weight: bold\">]</span>,\n",
       "        <span style=\"font-weight: bold\">[</span><span style=\"color: #008080; text-decoration-color: #008080; font-weight: bold\">-7.9295e-04</span>, <span style=\"color: #008080; text-decoration-color: #008080; font-weight: bold\">-2.0689e-03</span>, <span style=\"color: #008080; text-decoration-color: #008080; font-weight: bold\">-6.9289e-04</span>, <span style=\"color: #008080; text-decoration-color: #008080; font-weight: bold\">-7.2696e-04</span>,  <span style=\"color: #008080; text-decoration-color: #008080; font-weight: bold\">1.1507e-03</span><span style=\"font-weight: bold\">]</span>,\n",
       "        <span style=\"font-weight: bold\">[</span><span style=\"color: #008080; text-decoration-color: #008080; font-weight: bold\">-1.9385e-03</span>, <span style=\"color: #008080; text-decoration-color: #008080; font-weight: bold\">-2.7085e-03</span>, <span style=\"color: #008080; text-decoration-color: #008080; font-weight: bold\">-7.6056e-04</span>, <span style=\"color: #008080; text-decoration-color: #008080; font-weight: bold\">-4.4964e-04</span>, <span style=\"color: #008080; text-decoration-color: #008080; font-weight: bold\">-4.5431e-04</span><span style=\"font-weight: bold\">]])</span>\n",
       "</pre>\n"
      ],
      "text/plain": [
       "\u001b[1;35mtensor\u001b[0m\u001b[1m(\u001b[0m\u001b[1m[\u001b[0m\u001b[1m[\u001b[0m\u001b[1;36m-3.0774e-06\u001b[0m,  \u001b[1;36m1.6830e-03\u001b[0m, \u001b[1;36m-1.3377e-03\u001b[0m, \u001b[1;36m-1.8160e-04\u001b[0m, \u001b[1;36m-3.0330e-04\u001b[0m\u001b[1m]\u001b[0m,\n",
       "        \u001b[1m[\u001b[0m\u001b[1;36m-9.2404e-04\u001b[0m, \u001b[1;36m-8.7230e-04\u001b[0m, \u001b[1;36m-1.0772e-03\u001b[0m, \u001b[1;36m-1.4970e-05\u001b[0m, \u001b[1;36m-5.5368e-04\u001b[0m\u001b[1m]\u001b[0m,\n",
       "        \u001b[1m[\u001b[0m\u001b[1;36m-3.1002e-04\u001b[0m,  \u001b[1;36m4.5423e-04\u001b[0m,  \u001b[1;36m1.7460e-04\u001b[0m, \u001b[1;36m-5.0915e-04\u001b[0m, \u001b[1;36m-6.3905e-04\u001b[0m\u001b[1m]\u001b[0m,\n",
       "        \u001b[1m[\u001b[0m\u001b[1;36m-7.9295e-04\u001b[0m, \u001b[1;36m-2.0689e-03\u001b[0m, \u001b[1;36m-6.9289e-04\u001b[0m, \u001b[1;36m-7.2696e-04\u001b[0m,  \u001b[1;36m1.1507e-03\u001b[0m\u001b[1m]\u001b[0m,\n",
       "        \u001b[1m[\u001b[0m\u001b[1;36m-1.9385e-03\u001b[0m, \u001b[1;36m-2.7085e-03\u001b[0m, \u001b[1;36m-7.6056e-04\u001b[0m, \u001b[1;36m-4.4964e-04\u001b[0m, \u001b[1;36m-4.5431e-04\u001b[0m\u001b[1m]\u001b[0m\u001b[1m]\u001b[0m\u001b[1m)\u001b[0m\n"
      ]
     },
     "metadata": {},
     "output_type": "display_data"
    },
    {
     "data": {
      "text/html": [
       "<pre style=\"white-space:pre;overflow-x:auto;line-height:normal;font-family:Menlo,'DejaVu Sans Mono',consolas,'Courier New',monospace\"><span style=\"color: #800080; text-decoration-color: #800080; font-weight: bold\">tensor</span><span style=\"font-weight: bold\">([[</span> <span style=\"color: #008080; text-decoration-color: #008080; font-weight: bold\">3.2876e-05</span>,  <span style=\"color: #008080; text-decoration-color: #008080; font-weight: bold\">1.1341e-04</span>,  <span style=\"color: #008080; text-decoration-color: #008080; font-weight: bold\">2.4314e-05</span>,  <span style=\"color: #008080; text-decoration-color: #008080; font-weight: bold\">2.4401e-05</span>,  <span style=\"color: #008080; text-decoration-color: #008080; font-weight: bold\">9.0846e-05</span><span style=\"font-weight: bold\">]</span>,\n",
       "        <span style=\"font-weight: bold\">[</span><span style=\"color: #008080; text-decoration-color: #008080; font-weight: bold\">-1.6622e-05</span>,  <span style=\"color: #008080; text-decoration-color: #008080; font-weight: bold\">2.6949e-05</span>,  <span style=\"color: #008080; text-decoration-color: #008080; font-weight: bold\">2.7279e-05</span>,  <span style=\"color: #008080; text-decoration-color: #008080; font-weight: bold\">2.2369e-05</span>,  <span style=\"color: #008080; text-decoration-color: #008080; font-weight: bold\">3.7877e-06</span><span style=\"font-weight: bold\">]</span>,\n",
       "        <span style=\"font-weight: bold\">[</span> <span style=\"color: #008080; text-decoration-color: #008080; font-weight: bold\">1.0191e-05</span>,  <span style=\"color: #008080; text-decoration-color: #008080; font-weight: bold\">4.7310e-05</span>,  <span style=\"color: #008080; text-decoration-color: #008080; font-weight: bold\">6.9686e-06</span>,  <span style=\"color: #008080; text-decoration-color: #008080; font-weight: bold\">1.1149e-06</span>,  <span style=\"color: #008080; text-decoration-color: #008080; font-weight: bold\">2.8567e-05</span><span style=\"font-weight: bold\">]</span>,\n",
       "        <span style=\"font-weight: bold\">[</span> <span style=\"color: #008080; text-decoration-color: #008080; font-weight: bold\">2.4554e-05</span>,  <span style=\"color: #008080; text-decoration-color: #008080; font-weight: bold\">8.1344e-05</span>,  <span style=\"color: #008080; text-decoration-color: #008080; font-weight: bold\">2.4788e-05</span>,  <span style=\"color: #008080; text-decoration-color: #008080; font-weight: bold\">1.9775e-05</span>,  <span style=\"color: #008080; text-decoration-color: #008080; font-weight: bold\">3.3926e-05</span><span style=\"font-weight: bold\">]</span>,\n",
       "        <span style=\"font-weight: bold\">[</span> <span style=\"color: #008080; text-decoration-color: #008080; font-weight: bold\">7.2091e-06</span>,  <span style=\"color: #008080; text-decoration-color: #008080; font-weight: bold\">2.9094e-05</span>,  <span style=\"color: #008080; text-decoration-color: #008080; font-weight: bold\">8.7493e-06</span>,  <span style=\"color: #008080; text-decoration-color: #008080; font-weight: bold\">2.1335e-05</span>, <span style=\"color: #008080; text-decoration-color: #008080; font-weight: bold\">-1.6757e-05</span><span style=\"font-weight: bold\">]])</span>\n",
       "</pre>\n"
      ],
      "text/plain": [
       "\u001b[1;35mtensor\u001b[0m\u001b[1m(\u001b[0m\u001b[1m[\u001b[0m\u001b[1m[\u001b[0m \u001b[1;36m3.2876e-05\u001b[0m,  \u001b[1;36m1.1341e-04\u001b[0m,  \u001b[1;36m2.4314e-05\u001b[0m,  \u001b[1;36m2.4401e-05\u001b[0m,  \u001b[1;36m9.0846e-05\u001b[0m\u001b[1m]\u001b[0m,\n",
       "        \u001b[1m[\u001b[0m\u001b[1;36m-1.6622e-05\u001b[0m,  \u001b[1;36m2.6949e-05\u001b[0m,  \u001b[1;36m2.7279e-05\u001b[0m,  \u001b[1;36m2.2369e-05\u001b[0m,  \u001b[1;36m3.7877e-06\u001b[0m\u001b[1m]\u001b[0m,\n",
       "        \u001b[1m[\u001b[0m \u001b[1;36m1.0191e-05\u001b[0m,  \u001b[1;36m4.7310e-05\u001b[0m,  \u001b[1;36m6.9686e-06\u001b[0m,  \u001b[1;36m1.1149e-06\u001b[0m,  \u001b[1;36m2.8567e-05\u001b[0m\u001b[1m]\u001b[0m,\n",
       "        \u001b[1m[\u001b[0m \u001b[1;36m2.4554e-05\u001b[0m,  \u001b[1;36m8.1344e-05\u001b[0m,  \u001b[1;36m2.4788e-05\u001b[0m,  \u001b[1;36m1.9775e-05\u001b[0m,  \u001b[1;36m3.3926e-05\u001b[0m\u001b[1m]\u001b[0m,\n",
       "        \u001b[1m[\u001b[0m \u001b[1;36m7.2091e-06\u001b[0m,  \u001b[1;36m2.9094e-05\u001b[0m,  \u001b[1;36m8.7493e-06\u001b[0m,  \u001b[1;36m2.1335e-05\u001b[0m, \u001b[1;36m-1.6757e-05\u001b[0m\u001b[1m]\u001b[0m\u001b[1m]\u001b[0m\u001b[1m)\u001b[0m\n"
      ]
     },
     "metadata": {},
     "output_type": "display_data"
    }
   ],
   "source": [
    "dY_dX = -Y / N # P = \"X\" - LSE\n",
    "dY_dLSE = torch.sum(Y / N, dim = 1, keepdim = True) # P = X - \"LSE\"\n",
    "dLSE_dX = F.softmax(X, dim = 1)\n",
    "dY_dX_LSE = dY_dLSE * dLSE_dX\n",
    "\n",
    "dY_dX_total =  dY_dX + dY_dX_LSE\n",
    "\n",
    "dE = dY_dX_total @ C.t()\n",
    "dC = E.t() @ dY_dX_total \n",
    "\n",
    "print(dE[:5,:5])\n",
    "print(dC[:5,:5])"
   ]
  },
  {
   "cell_type": "code",
   "execution_count": 29,
   "id": "a0e5b051-06c7-4645-a200-51983b76b2b8",
   "metadata": {},
   "outputs": [
    {
     "data": {
      "text/html": [
       "<pre style=\"white-space:pre;overflow-x:auto;line-height:normal;font-family:Menlo,'DejaVu Sans Mono',consolas,'Courier New',monospace\"><span style=\"color: #800080; text-decoration-color: #800080; font-weight: bold\">tensor</span><span style=\"font-weight: bold\">([[</span> <span style=\"color: #008080; text-decoration-color: #008080; font-weight: bold\">0.2161</span>,  <span style=\"color: #008080; text-decoration-color: #008080; font-weight: bold\">1.9069</span>, <span style=\"color: #008080; text-decoration-color: #008080; font-weight: bold\">-1.5344</span>, <span style=\"color: #008080; text-decoration-color: #008080; font-weight: bold\">-0.2329</span>, <span style=\"color: #008080; text-decoration-color: #008080; font-weight: bold\">-0.2667</span><span style=\"font-weight: bold\">]</span>,\n",
       "        <span style=\"font-weight: bold\">[</span><span style=\"color: #008080; text-decoration-color: #008080; font-weight: bold\">-0.7757</span>, <span style=\"color: #008080; text-decoration-color: #008080; font-weight: bold\">-0.5801</span>, <span style=\"color: #008080; text-decoration-color: #008080; font-weight: bold\">-1.1768</span>, <span style=\"color: #008080; text-decoration-color: #008080; font-weight: bold\">-0.0819</span>, <span style=\"color: #008080; text-decoration-color: #008080; font-weight: bold\">-0.5917</span><span style=\"font-weight: bold\">]</span>,\n",
       "        <span style=\"font-weight: bold\">[</span><span style=\"color: #008080; text-decoration-color: #008080; font-weight: bold\">-0.2083</span>,  <span style=\"color: #008080; text-decoration-color: #008080; font-weight: bold\">0.5824</span>,  <span style=\"color: #008080; text-decoration-color: #008080; font-weight: bold\">0.0260</span>, <span style=\"color: #008080; text-decoration-color: #008080; font-weight: bold\">-0.7244</span>, <span style=\"color: #008080; text-decoration-color: #008080; font-weight: bold\">-0.5414</span><span style=\"font-weight: bold\">]</span>,\n",
       "        <span style=\"font-weight: bold\">[</span><span style=\"color: #008080; text-decoration-color: #008080; font-weight: bold\">-0.4269</span>, <span style=\"color: #008080; text-decoration-color: #008080; font-weight: bold\">-1.8212</span>, <span style=\"color: #008080; text-decoration-color: #008080; font-weight: bold\">-0.8554</span>, <span style=\"color: #008080; text-decoration-color: #008080; font-weight: bold\">-0.5496</span>,  <span style=\"color: #008080; text-decoration-color: #008080; font-weight: bold\">1.0672</span><span style=\"font-weight: bold\">]</span>,\n",
       "        <span style=\"font-weight: bold\">[</span><span style=\"color: #008080; text-decoration-color: #008080; font-weight: bold\">-1.7580</span>, <span style=\"color: #008080; text-decoration-color: #008080; font-weight: bold\">-2.5212</span>, <span style=\"color: #008080; text-decoration-color: #008080; font-weight: bold\">-0.7580</span>, <span style=\"color: #008080; text-decoration-color: #008080; font-weight: bold\">-0.5546</span>, <span style=\"color: #008080; text-decoration-color: #008080; font-weight: bold\">-0.3271</span><span style=\"font-weight: bold\">]])</span>\n",
       "</pre>\n"
      ],
      "text/plain": [
       "\u001b[1;35mtensor\u001b[0m\u001b[1m(\u001b[0m\u001b[1m[\u001b[0m\u001b[1m[\u001b[0m \u001b[1;36m0.2161\u001b[0m,  \u001b[1;36m1.9069\u001b[0m, \u001b[1;36m-1.5344\u001b[0m, \u001b[1;36m-0.2329\u001b[0m, \u001b[1;36m-0.2667\u001b[0m\u001b[1m]\u001b[0m,\n",
       "        \u001b[1m[\u001b[0m\u001b[1;36m-0.7757\u001b[0m, \u001b[1;36m-0.5801\u001b[0m, \u001b[1;36m-1.1768\u001b[0m, \u001b[1;36m-0.0819\u001b[0m, \u001b[1;36m-0.5917\u001b[0m\u001b[1m]\u001b[0m,\n",
       "        \u001b[1m[\u001b[0m\u001b[1;36m-0.2083\u001b[0m,  \u001b[1;36m0.5824\u001b[0m,  \u001b[1;36m0.0260\u001b[0m, \u001b[1;36m-0.7244\u001b[0m, \u001b[1;36m-0.5414\u001b[0m\u001b[1m]\u001b[0m,\n",
       "        \u001b[1m[\u001b[0m\u001b[1;36m-0.4269\u001b[0m, \u001b[1;36m-1.8212\u001b[0m, \u001b[1;36m-0.8554\u001b[0m, \u001b[1;36m-0.5496\u001b[0m,  \u001b[1;36m1.0672\u001b[0m\u001b[1m]\u001b[0m,\n",
       "        \u001b[1m[\u001b[0m\u001b[1;36m-1.7580\u001b[0m, \u001b[1;36m-2.5212\u001b[0m, \u001b[1;36m-0.7580\u001b[0m, \u001b[1;36m-0.5546\u001b[0m, \u001b[1;36m-0.3271\u001b[0m\u001b[1m]\u001b[0m\u001b[1m]\u001b[0m\u001b[1m)\u001b[0m\n"
      ]
     },
     "metadata": {},
     "output_type": "display_data"
    },
    {
     "data": {
      "text/html": [
       "<pre style=\"white-space:pre;overflow-x:auto;line-height:normal;font-family:Menlo,'DejaVu Sans Mono',consolas,'Courier New',monospace\"><span style=\"color: #800080; text-decoration-color: #800080; font-weight: bold\">tensor</span><span style=\"font-weight: bold\">([[</span><span style=\"color: #008080; text-decoration-color: #008080; font-weight: bold\">-1.4649e-03</span>, <span style=\"color: #008080; text-decoration-color: #008080; font-weight: bold\">-1.1066e-03</span>, <span style=\"color: #008080; text-decoration-color: #008080; font-weight: bold\">-7.3092e-04</span>, <span style=\"color: #008080; text-decoration-color: #008080; font-weight: bold\">-8.6530e-05</span>, <span style=\"color: #008080; text-decoration-color: #008080; font-weight: bold\">-1.1256e-03</span><span style=\"font-weight: bold\">]</span>,\n",
       "        <span style=\"font-weight: bold\">[</span><span style=\"color: #008080; text-decoration-color: #008080; font-weight: bold\">-1.2147e-03</span>,  <span style=\"color: #008080; text-decoration-color: #008080; font-weight: bold\">2.8367e-04</span>, <span style=\"color: #008080; text-decoration-color: #008080; font-weight: bold\">-2.3699e-04</span>, <span style=\"color: #008080; text-decoration-color: #008080; font-weight: bold\">-3.7976e-04</span>, <span style=\"color: #008080; text-decoration-color: #008080; font-weight: bold\">-3.6783e-03</span><span style=\"font-weight: bold\">]</span>,\n",
       "        <span style=\"font-weight: bold\">[</span><span style=\"color: #008080; text-decoration-color: #008080; font-weight: bold\">-4.3246e-04</span>,  <span style=\"color: #008080; text-decoration-color: #008080; font-weight: bold\">2.8613e-04</span>, <span style=\"color: #008080; text-decoration-color: #008080; font-weight: bold\">-2.0724e-04</span>, <span style=\"color: #008080; text-decoration-color: #008080; font-weight: bold\">-2.2863e-06</span>, <span style=\"color: #008080; text-decoration-color: #008080; font-weight: bold\">-1.5024e-04</span><span style=\"font-weight: bold\">]</span>,\n",
       "        <span style=\"font-weight: bold\">[</span><span style=\"color: #008080; text-decoration-color: #008080; font-weight: bold\">-9.7449e-04</span>, <span style=\"color: #008080; text-decoration-color: #008080; font-weight: bold\">-5.1255e-04</span>, <span style=\"color: #008080; text-decoration-color: #008080; font-weight: bold\">-3.5255e-04</span>, <span style=\"color: #008080; text-decoration-color: #008080; font-weight: bold\">-9.0179e-05</span>, <span style=\"color: #008080; text-decoration-color: #008080; font-weight: bold\">-1.4561e-03</span><span style=\"font-weight: bold\">]</span>,\n",
       "        <span style=\"font-weight: bold\">[</span> <span style=\"color: #008080; text-decoration-color: #008080; font-weight: bold\">1.4869e-04</span>, <span style=\"color: #008080; text-decoration-color: #008080; font-weight: bold\">-1.3156e-03</span>, <span style=\"color: #008080; text-decoration-color: #008080; font-weight: bold\">-1.9962e-04</span>, <span style=\"color: #008080; text-decoration-color: #008080; font-weight: bold\">-4.2939e-05</span>,  <span style=\"color: #008080; text-decoration-color: #008080; font-weight: bold\">5.8839e-05</span><span style=\"font-weight: bold\">]])</span>\n",
       "</pre>\n"
      ],
      "text/plain": [
       "\u001b[1;35mtensor\u001b[0m\u001b[1m(\u001b[0m\u001b[1m[\u001b[0m\u001b[1m[\u001b[0m\u001b[1;36m-1.4649e-03\u001b[0m, \u001b[1;36m-1.1066e-03\u001b[0m, \u001b[1;36m-7.3092e-04\u001b[0m, \u001b[1;36m-8.6530e-05\u001b[0m, \u001b[1;36m-1.1256e-03\u001b[0m\u001b[1m]\u001b[0m,\n",
       "        \u001b[1m[\u001b[0m\u001b[1;36m-1.2147e-03\u001b[0m,  \u001b[1;36m2.8367e-04\u001b[0m, \u001b[1;36m-2.3699e-04\u001b[0m, \u001b[1;36m-3.7976e-04\u001b[0m, \u001b[1;36m-3.6783e-03\u001b[0m\u001b[1m]\u001b[0m,\n",
       "        \u001b[1m[\u001b[0m\u001b[1;36m-4.3246e-04\u001b[0m,  \u001b[1;36m2.8613e-04\u001b[0m, \u001b[1;36m-2.0724e-04\u001b[0m, \u001b[1;36m-2.2863e-06\u001b[0m, \u001b[1;36m-1.5024e-04\u001b[0m\u001b[1m]\u001b[0m,\n",
       "        \u001b[1m[\u001b[0m\u001b[1;36m-9.7449e-04\u001b[0m, \u001b[1;36m-5.1255e-04\u001b[0m, \u001b[1;36m-3.5255e-04\u001b[0m, \u001b[1;36m-9.0179e-05\u001b[0m, \u001b[1;36m-1.4561e-03\u001b[0m\u001b[1m]\u001b[0m,\n",
       "        \u001b[1m[\u001b[0m \u001b[1;36m1.4869e-04\u001b[0m, \u001b[1;36m-1.3156e-03\u001b[0m, \u001b[1;36m-1.9962e-04\u001b[0m, \u001b[1;36m-4.2939e-05\u001b[0m,  \u001b[1;36m5.8839e-05\u001b[0m\u001b[1m]\u001b[0m\u001b[1m]\u001b[0m\u001b[1m)\u001b[0m\n"
      ]
     },
     "metadata": {},
     "output_type": "display_data"
    }
   ],
   "source": [
    "dE_LSE = dLSE_dX @ C.t()\n",
    "dC_LSE = E.t() @ dLSE_dX \n",
    "print(dE_LSE[:5,:5])\n",
    "print(dC_LSE[:5,:5])"
   ]
  },
  {
   "cell_type": "markdown",
   "id": "b0aafca2-b6c3-454e-8546-7256d10bcad7",
   "metadata": {},
   "source": [
    "#### Pytorch AutoGrad LSE backward"
   ]
  },
  {
   "cell_type": "markdown",
   "id": "9abc8949-c0de-430e-9823-1acd0387b670",
   "metadata": {},
   "source": [
    " 仅检验手动计算的梯度是否正确"
   ]
  },
  {
   "cell_type": "code",
   "execution_count": 30,
   "id": "4b918e26-3eeb-4e19-b8a3-a142390e6337",
   "metadata": {},
   "outputs": [],
   "source": [
    "# # 注意要清除梯度，得到的才准确\n",
    "# # E.grad.zero_()\n",
    "# # C.grad.zero_()\n",
    "# # Y.grad.zero_()\n",
    "\n",
    "# E.requires_grad = True\n",
    "# C.requires_grad = True\n",
    "# Y.requires_grad = True\n",
    "\n",
    "\n",
    "# X = E @ C\n",
    "# X.retain_grad()\n",
    "\n",
    "# LSE = torch.log(torch.sum( torch.exp(X), dim = 1, keepdim = True))\n",
    "# LSE.retain_grad()\n",
    "\n",
    "# P = X - LSE # 逐行减去LSE\n",
    "# P.retain_grad()\n",
    "\n",
    "# loss = (- Y * P) # (-Y * X + Y * LSE)\n",
    "# loss.retain_grad()\n",
    "# # print(loss)\n",
    "\n",
    "# l = loss.mean()\n",
    "# l.backward() "
   ]
  },
  {
   "cell_type": "code",
   "execution_count": 31,
   "id": "f8c6e562-c15a-4c5b-808b-e3f63fb6bb77",
   "metadata": {},
   "outputs": [],
   "source": [
    "# print(loss.grad[:5,:5])\n",
    "\n",
    "# print(LSE.grad[:5,:5])\n",
    "# print(LSE.grad.shape)\n",
    "\n",
    "# print(X.grad[:5,:5])\n",
    "# print(E.grad[:5,:5])\n",
    "# print(C.grad[:5,:5])"
   ]
  },
  {
   "cell_type": "markdown",
   "id": "210e91be-02e1-4787-9d95-98a462d5a47b",
   "metadata": {},
   "source": [
    "#### CCE LSE Backward"
   ]
  },
  {
   "cell_type": "code",
   "execution_count": 32,
   "id": "ee70d263-ebff-46f3-b573-4da1c15372a9",
   "metadata": {},
   "outputs": [
    {
     "data": {
      "text/html": [
       "<pre style=\"white-space:pre;overflow-x:auto;line-height:normal;font-family:Menlo,'DejaVu Sans Mono',consolas,'Courier New',monospace\"><span style=\"color: #800080; text-decoration-color: #800080; font-weight: bold\">torch.Size</span><span style=\"font-weight: bold\">([</span><span style=\"color: #008080; text-decoration-color: #008080; font-weight: bold\">8</span>, <span style=\"color: #008080; text-decoration-color: #008080; font-weight: bold\">128</span><span style=\"font-weight: bold\">])</span>\n",
       "</pre>\n"
      ],
      "text/plain": [
       "\u001b[1;35mtorch.Size\u001b[0m\u001b[1m(\u001b[0m\u001b[1m[\u001b[0m\u001b[1;36m8\u001b[0m, \u001b[1;36m128\u001b[0m\u001b[1m]\u001b[0m\u001b[1m)\u001b[0m\n"
      ]
     },
     "metadata": {},
     "output_type": "display_data"
    },
    {
     "data": {
      "text/html": [
       "<pre style=\"white-space:pre;overflow-x:auto;line-height:normal;font-family:Menlo,'DejaVu Sans Mono',consolas,'Courier New',monospace\"><span style=\"color: #800080; text-decoration-color: #800080; font-weight: bold\">tensor</span><span style=\"font-weight: bold\">([[</span><span style=\"color: #008080; text-decoration-color: #008080; font-weight: bold\">0.0010</span><span style=\"font-weight: bold\">]</span>,\n",
       "        <span style=\"font-weight: bold\">[</span><span style=\"color: #008080; text-decoration-color: #008080; font-weight: bold\">0.0010</span><span style=\"font-weight: bold\">]</span>,\n",
       "        <span style=\"font-weight: bold\">[</span><span style=\"color: #008080; text-decoration-color: #008080; font-weight: bold\">0.0010</span><span style=\"font-weight: bold\">]</span>,\n",
       "        <span style=\"font-weight: bold\">[</span><span style=\"color: #008080; text-decoration-color: #008080; font-weight: bold\">0.0010</span><span style=\"font-weight: bold\">]</span>,\n",
       "        <span style=\"font-weight: bold\">[</span><span style=\"color: #008080; text-decoration-color: #008080; font-weight: bold\">0.0010</span><span style=\"font-weight: bold\">]</span>,\n",
       "        <span style=\"font-weight: bold\">[</span><span style=\"color: #008080; text-decoration-color: #008080; font-weight: bold\">0.0010</span><span style=\"font-weight: bold\">]</span>,\n",
       "        <span style=\"font-weight: bold\">[</span><span style=\"color: #008080; text-decoration-color: #008080; font-weight: bold\">0.0010</span><span style=\"font-weight: bold\">]</span>,\n",
       "        <span style=\"font-weight: bold\">[</span><span style=\"color: #008080; text-decoration-color: #008080; font-weight: bold\">0.0010</span><span style=\"font-weight: bold\">]])</span>\n",
       "</pre>\n"
      ],
      "text/plain": [
       "\u001b[1;35mtensor\u001b[0m\u001b[1m(\u001b[0m\u001b[1m[\u001b[0m\u001b[1m[\u001b[0m\u001b[1;36m0.0010\u001b[0m\u001b[1m]\u001b[0m,\n",
       "        \u001b[1m[\u001b[0m\u001b[1;36m0.0010\u001b[0m\u001b[1m]\u001b[0m,\n",
       "        \u001b[1m[\u001b[0m\u001b[1;36m0.0010\u001b[0m\u001b[1m]\u001b[0m,\n",
       "        \u001b[1m[\u001b[0m\u001b[1;36m0.0010\u001b[0m\u001b[1m]\u001b[0m,\n",
       "        \u001b[1m[\u001b[0m\u001b[1;36m0.0010\u001b[0m\u001b[1m]\u001b[0m,\n",
       "        \u001b[1m[\u001b[0m\u001b[1;36m0.0010\u001b[0m\u001b[1m]\u001b[0m,\n",
       "        \u001b[1m[\u001b[0m\u001b[1;36m0.0010\u001b[0m\u001b[1m]\u001b[0m,\n",
       "        \u001b[1m[\u001b[0m\u001b[1;36m0.0010\u001b[0m\u001b[1m]\u001b[0m\u001b[1m]\u001b[0m\u001b[1m)\u001b[0m\n"
      ]
     },
     "metadata": {},
     "output_type": "display_data"
    },
    {
     "data": {
      "text/html": [
       "<pre style=\"white-space:pre;overflow-x:auto;line-height:normal;font-family:Menlo,'DejaVu Sans Mono',consolas,'Courier New',monospace\"><span style=\"color: #800080; text-decoration-color: #800080; font-weight: bold\">torch.Size</span><span style=\"font-weight: bold\">([</span><span style=\"color: #008080; text-decoration-color: #008080; font-weight: bold\">8</span>, <span style=\"color: #008080; text-decoration-color: #008080; font-weight: bold\">16</span><span style=\"font-weight: bold\">])</span>\n",
       "</pre>\n"
      ],
      "text/plain": [
       "\u001b[1;35mtorch.Size\u001b[0m\u001b[1m(\u001b[0m\u001b[1m[\u001b[0m\u001b[1;36m8\u001b[0m, \u001b[1;36m16\u001b[0m\u001b[1m]\u001b[0m\u001b[1m)\u001b[0m\n"
      ]
     },
     "metadata": {},
     "output_type": "display_data"
    },
    {
     "data": {
      "text/html": [
       "<pre style=\"white-space:pre;overflow-x:auto;line-height:normal;font-family:Menlo,'DejaVu Sans Mono',consolas,'Courier New',monospace\"><span style=\"color: #800080; text-decoration-color: #800080; font-weight: bold\">torch.Size</span><span style=\"font-weight: bold\">([</span><span style=\"color: #008080; text-decoration-color: #008080; font-weight: bold\">16</span>, <span style=\"color: #008080; text-decoration-color: #008080; font-weight: bold\">128</span><span style=\"font-weight: bold\">])</span>\n",
       "</pre>\n"
      ],
      "text/plain": [
       "\u001b[1;35mtorch.Size\u001b[0m\u001b[1m(\u001b[0m\u001b[1m[\u001b[0m\u001b[1;36m16\u001b[0m, \u001b[1;36m128\u001b[0m\u001b[1m]\u001b[0m\u001b[1m)\u001b[0m\n"
      ]
     },
     "metadata": {},
     "output_type": "display_data"
    },
    {
     "data": {
      "text/html": [
       "<pre style=\"white-space:pre;overflow-x:auto;line-height:normal;font-family:Menlo,'DejaVu Sans Mono',consolas,'Courier New',monospace\"><span style=\"color: #800080; text-decoration-color: #800080; font-weight: bold\">tensor</span><span style=\"font-weight: bold\">([[</span> <span style=\"color: #008080; text-decoration-color: #008080; font-weight: bold\">2.1101e-04</span>,  <span style=\"color: #008080; text-decoration-color: #008080; font-weight: bold\">1.8622e-03</span>, <span style=\"color: #008080; text-decoration-color: #008080; font-weight: bold\">-1.4984e-03</span>, <span style=\"color: #008080; text-decoration-color: #008080; font-weight: bold\">-2.2748e-04</span>, <span style=\"color: #008080; text-decoration-color: #008080; font-weight: bold\">-2.6046e-04</span><span style=\"font-weight: bold\">]</span>,\n",
       "        <span style=\"font-weight: bold\">[</span><span style=\"color: #008080; text-decoration-color: #008080; font-weight: bold\">-7.5749e-04</span>, <span style=\"color: #008080; text-decoration-color: #008080; font-weight: bold\">-5.6646e-04</span>, <span style=\"color: #008080; text-decoration-color: #008080; font-weight: bold\">-1.1492e-03</span>, <span style=\"color: #008080; text-decoration-color: #008080; font-weight: bold\">-8.0008e-05</span>, <span style=\"color: #008080; text-decoration-color: #008080; font-weight: bold\">-5.7780e-04</span><span style=\"font-weight: bold\">]</span>,\n",
       "        <span style=\"font-weight: bold\">[</span><span style=\"color: #008080; text-decoration-color: #008080; font-weight: bold\">-2.0341e-04</span>,  <span style=\"color: #008080; text-decoration-color: #008080; font-weight: bold\">5.6872e-04</span>,  <span style=\"color: #008080; text-decoration-color: #008080; font-weight: bold\">2.5342e-05</span>, <span style=\"color: #008080; text-decoration-color: #008080; font-weight: bold\">-7.0742e-04</span>, <span style=\"color: #008080; text-decoration-color: #008080; font-weight: bold\">-5.2867e-04</span><span style=\"font-weight: bold\">]</span>,\n",
       "        <span style=\"font-weight: bold\">[</span><span style=\"color: #008080; text-decoration-color: #008080; font-weight: bold\">-4.1686e-04</span>, <span style=\"color: #008080; text-decoration-color: #008080; font-weight: bold\">-1.7785e-03</span>, <span style=\"color: #008080; text-decoration-color: #008080; font-weight: bold\">-8.3539e-04</span>, <span style=\"color: #008080; text-decoration-color: #008080; font-weight: bold\">-5.3669e-04</span>,  <span style=\"color: #008080; text-decoration-color: #008080; font-weight: bold\">1.0422e-03</span><span style=\"font-weight: bold\">]</span>,\n",
       "        <span style=\"font-weight: bold\">[</span><span style=\"color: #008080; text-decoration-color: #008080; font-weight: bold\">-1.7168e-03</span>, <span style=\"color: #008080; text-decoration-color: #008080; font-weight: bold\">-2.4621e-03</span>, <span style=\"color: #008080; text-decoration-color: #008080; font-weight: bold\">-7.4023e-04</span>, <span style=\"color: #008080; text-decoration-color: #008080; font-weight: bold\">-5.4160e-04</span>, <span style=\"color: #008080; text-decoration-color: #008080; font-weight: bold\">-3.1944e-04</span><span style=\"font-weight: bold\">]])</span>\n",
       "</pre>\n"
      ],
      "text/plain": [
       "\u001b[1;35mtensor\u001b[0m\u001b[1m(\u001b[0m\u001b[1m[\u001b[0m\u001b[1m[\u001b[0m \u001b[1;36m2.1101e-04\u001b[0m,  \u001b[1;36m1.8622e-03\u001b[0m, \u001b[1;36m-1.4984e-03\u001b[0m, \u001b[1;36m-2.2748e-04\u001b[0m, \u001b[1;36m-2.6046e-04\u001b[0m\u001b[1m]\u001b[0m,\n",
       "        \u001b[1m[\u001b[0m\u001b[1;36m-7.5749e-04\u001b[0m, \u001b[1;36m-5.6646e-04\u001b[0m, \u001b[1;36m-1.1492e-03\u001b[0m, \u001b[1;36m-8.0008e-05\u001b[0m, \u001b[1;36m-5.7780e-04\u001b[0m\u001b[1m]\u001b[0m,\n",
       "        \u001b[1m[\u001b[0m\u001b[1;36m-2.0341e-04\u001b[0m,  \u001b[1;36m5.6872e-04\u001b[0m,  \u001b[1;36m2.5342e-05\u001b[0m, \u001b[1;36m-7.0742e-04\u001b[0m, \u001b[1;36m-5.2867e-04\u001b[0m\u001b[1m]\u001b[0m,\n",
       "        \u001b[1m[\u001b[0m\u001b[1;36m-4.1686e-04\u001b[0m, \u001b[1;36m-1.7785e-03\u001b[0m, \u001b[1;36m-8.3539e-04\u001b[0m, \u001b[1;36m-5.3669e-04\u001b[0m,  \u001b[1;36m1.0422e-03\u001b[0m\u001b[1m]\u001b[0m,\n",
       "        \u001b[1m[\u001b[0m\u001b[1;36m-1.7168e-03\u001b[0m, \u001b[1;36m-2.4621e-03\u001b[0m, \u001b[1;36m-7.4023e-04\u001b[0m, \u001b[1;36m-5.4160e-04\u001b[0m, \u001b[1;36m-3.1944e-04\u001b[0m\u001b[1m]\u001b[0m\u001b[1m]\u001b[0m\u001b[1m)\u001b[0m\n"
      ]
     },
     "metadata": {},
     "output_type": "display_data"
    },
    {
     "data": {
      "text/html": [
       "<pre style=\"white-space:pre;overflow-x:auto;line-height:normal;font-family:Menlo,'DejaVu Sans Mono',consolas,'Courier New',monospace\"><span style=\"color: #800080; text-decoration-color: #800080; font-weight: bold\">tensor</span><span style=\"font-weight: bold\">([[</span><span style=\"color: #008080; text-decoration-color: #008080; font-weight: bold\">-1.4306e-06</span>, <span style=\"color: #008080; text-decoration-color: #008080; font-weight: bold\">-1.0806e-06</span>, <span style=\"color: #008080; text-decoration-color: #008080; font-weight: bold\">-7.1379e-07</span>, <span style=\"color: #008080; text-decoration-color: #008080; font-weight: bold\">-8.4502e-08</span>, <span style=\"color: #008080; text-decoration-color: #008080; font-weight: bold\">-1.0992e-06</span><span style=\"font-weight: bold\">]</span>,\n",
       "        <span style=\"font-weight: bold\">[</span><span style=\"color: #008080; text-decoration-color: #008080; font-weight: bold\">-1.1862e-06</span>,  <span style=\"color: #008080; text-decoration-color: #008080; font-weight: bold\">2.7702e-07</span>, <span style=\"color: #008080; text-decoration-color: #008080; font-weight: bold\">-2.3143e-07</span>, <span style=\"color: #008080; text-decoration-color: #008080; font-weight: bold\">-3.7086e-07</span>, <span style=\"color: #008080; text-decoration-color: #008080; font-weight: bold\">-3.5921e-06</span><span style=\"font-weight: bold\">]</span>,\n",
       "        <span style=\"font-weight: bold\">[</span><span style=\"color: #008080; text-decoration-color: #008080; font-weight: bold\">-4.2233e-07</span>,  <span style=\"color: #008080; text-decoration-color: #008080; font-weight: bold\">2.7943e-07</span>, <span style=\"color: #008080; text-decoration-color: #008080; font-weight: bold\">-2.0238e-07</span>, <span style=\"color: #008080; text-decoration-color: #008080; font-weight: bold\">-2.2327e-09</span>, <span style=\"color: #008080; text-decoration-color: #008080; font-weight: bold\">-1.4672e-07</span><span style=\"font-weight: bold\">]</span>,\n",
       "        <span style=\"font-weight: bold\">[</span><span style=\"color: #008080; text-decoration-color: #008080; font-weight: bold\">-9.5165e-07</span>, <span style=\"color: #008080; text-decoration-color: #008080; font-weight: bold\">-5.0053e-07</span>, <span style=\"color: #008080; text-decoration-color: #008080; font-weight: bold\">-3.4428e-07</span>, <span style=\"color: #008080; text-decoration-color: #008080; font-weight: bold\">-8.8065e-08</span>, <span style=\"color: #008080; text-decoration-color: #008080; font-weight: bold\">-1.4220e-06</span><span style=\"font-weight: bold\">]</span>,\n",
       "        <span style=\"font-weight: bold\">[</span> <span style=\"color: #008080; text-decoration-color: #008080; font-weight: bold\">1.4520e-07</span>, <span style=\"color: #008080; text-decoration-color: #008080; font-weight: bold\">-1.2848e-06</span>, <span style=\"color: #008080; text-decoration-color: #008080; font-weight: bold\">-1.9494e-07</span>, <span style=\"color: #008080; text-decoration-color: #008080; font-weight: bold\">-4.1933e-08</span>,  <span style=\"color: #008080; text-decoration-color: #008080; font-weight: bold\">5.7460e-08</span><span style=\"font-weight: bold\">]])</span>\n",
       "</pre>\n"
      ],
      "text/plain": [
       "\u001b[1;35mtensor\u001b[0m\u001b[1m(\u001b[0m\u001b[1m[\u001b[0m\u001b[1m[\u001b[0m\u001b[1;36m-1.4306e-06\u001b[0m, \u001b[1;36m-1.0806e-06\u001b[0m, \u001b[1;36m-7.1379e-07\u001b[0m, \u001b[1;36m-8.4502e-08\u001b[0m, \u001b[1;36m-1.0992e-06\u001b[0m\u001b[1m]\u001b[0m,\n",
       "        \u001b[1m[\u001b[0m\u001b[1;36m-1.1862e-06\u001b[0m,  \u001b[1;36m2.7702e-07\u001b[0m, \u001b[1;36m-2.3143e-07\u001b[0m, \u001b[1;36m-3.7086e-07\u001b[0m, \u001b[1;36m-3.5921e-06\u001b[0m\u001b[1m]\u001b[0m,\n",
       "        \u001b[1m[\u001b[0m\u001b[1;36m-4.2233e-07\u001b[0m,  \u001b[1;36m2.7943e-07\u001b[0m, \u001b[1;36m-2.0238e-07\u001b[0m, \u001b[1;36m-2.2327e-09\u001b[0m, \u001b[1;36m-1.4672e-07\u001b[0m\u001b[1m]\u001b[0m,\n",
       "        \u001b[1m[\u001b[0m\u001b[1;36m-9.5165e-07\u001b[0m, \u001b[1;36m-5.0053e-07\u001b[0m, \u001b[1;36m-3.4428e-07\u001b[0m, \u001b[1;36m-8.8065e-08\u001b[0m, \u001b[1;36m-1.4220e-06\u001b[0m\u001b[1m]\u001b[0m,\n",
       "        \u001b[1m[\u001b[0m \u001b[1;36m1.4520e-07\u001b[0m, \u001b[1;36m-1.2848e-06\u001b[0m, \u001b[1;36m-1.9494e-07\u001b[0m, \u001b[1;36m-4.1933e-08\u001b[0m,  \u001b[1;36m5.7460e-08\u001b[0m\u001b[1m]\u001b[0m\u001b[1m]\u001b[0m\u001b[1m)\u001b[0m\n"
      ]
     },
     "metadata": {},
     "output_type": "display_data"
    }
   ],
   "source": [
    "# CCE : Algorithm 3\n",
    "\n",
    "is_filter = False\n",
    "epsilon = 1e-6\n",
    "\n",
    "dE = torch.zeros_like(E)\n",
    "dC = torch.zeros_like(C)\n",
    "\n",
    "dE_blocks = torch.split(dE, n_b, dim = 0)\n",
    "dC_blocks = torch.split(dC, v_b, dim = 1)\n",
    "\n",
    "print(Y.shape)\n",
    "d_LSE = dY_dLSE\n",
    "print(d_LSE)\n",
    "\n",
    "# LSE part\n",
    "for n, e in enumerate(E_blocks):\n",
    "    for v, c in enumerate(C_blocks):\n",
    "        \n",
    "        A = torch.zeros(n_b, v_b)\n",
    "        e_d_blocks = torch.split(e, d_b, dim = 1)\n",
    "        c_d_blocks = torch.split(c, d_b, dim = 0)\n",
    "        for ed, cd in zip(e_d_blocks, c_d_blocks):\n",
    "            A += ed @ cd # A_nv\n",
    "\n",
    "        S = torch.exp(A - LSE[n_b * n : n_b * (n+1)]) # softmax\n",
    "\n",
    "        # filter S\n",
    "        if is_filter:\n",
    "            if  (S < epsilon).all():\n",
    "                print('skip', n, v)\n",
    "                continue\n",
    "            \n",
    "        \n",
    "        d_LSE_block = d_LSE[n_b * n : n_b * (n+1), :]\n",
    "        d_index = 0\n",
    "        for ed, cd in zip(e_d_blocks, c_d_blocks):\n",
    "            dE_blocks[n][ :, d_index * d_b: (d_index+1)*d_b ] +=  (d_LSE_block * S) @ cd.t()\n",
    "            dC_blocks[v][ d_index * d_b: (d_index+1)*d_b, : ] +=  ed.t() @ (d_LSE_block * S)\n",
    "            d_index = d_index + 1\n",
    "\n",
    "\n",
    "# dLSE gradient part\n",
    "dE_part_LSE = torch.cat(dE_blocks, dim = 0)\n",
    "dC_part_LSE = torch.cat(dC_blocks, dim = 1)\n",
    "\n",
    "print(dE_part_LSE.shape)\n",
    "print(dC_part_LSE.shape)\n",
    "\n",
    "print(dE_part_LSE[:5,:5])\n",
    "print(dC_part_LSE[:5,:5])"
   ]
  },
  {
   "cell_type": "code",
   "execution_count": 33,
   "id": "36854c45-3624-426b-9fb6-3390cd0ac420",
   "metadata": {},
   "outputs": [
    {
     "data": {
      "text/html": [
       "<pre style=\"white-space:pre;overflow-x:auto;line-height:normal;font-family:Menlo,'DejaVu Sans Mono',consolas,'Courier New',monospace\"><span style=\"color: #800080; text-decoration-color: #800080; font-weight: bold\">tensor</span><span style=\"font-weight: bold\">([[</span><span style=\"color: #008080; text-decoration-color: #008080; font-weight: bold\">-3.0775e-06</span>,  <span style=\"color: #008080; text-decoration-color: #008080; font-weight: bold\">1.6830e-03</span>, <span style=\"color: #008080; text-decoration-color: #008080; font-weight: bold\">-1.3377e-03</span>, <span style=\"color: #008080; text-decoration-color: #008080; font-weight: bold\">-1.8160e-04</span>, <span style=\"color: #008080; text-decoration-color: #008080; font-weight: bold\">-3.0330e-04</span><span style=\"font-weight: bold\">]</span>,\n",
       "        <span style=\"font-weight: bold\">[</span><span style=\"color: #008080; text-decoration-color: #008080; font-weight: bold\">-9.2404e-04</span>, <span style=\"color: #008080; text-decoration-color: #008080; font-weight: bold\">-8.7230e-04</span>, <span style=\"color: #008080; text-decoration-color: #008080; font-weight: bold\">-1.0772e-03</span>, <span style=\"color: #008080; text-decoration-color: #008080; font-weight: bold\">-1.4970e-05</span>, <span style=\"color: #008080; text-decoration-color: #008080; font-weight: bold\">-5.5368e-04</span><span style=\"font-weight: bold\">]</span>,\n",
       "        <span style=\"font-weight: bold\">[</span><span style=\"color: #008080; text-decoration-color: #008080; font-weight: bold\">-3.1002e-04</span>,  <span style=\"color: #008080; text-decoration-color: #008080; font-weight: bold\">4.5422e-04</span>,  <span style=\"color: #008080; text-decoration-color: #008080; font-weight: bold\">1.7460e-04</span>, <span style=\"color: #008080; text-decoration-color: #008080; font-weight: bold\">-5.0915e-04</span>, <span style=\"color: #008080; text-decoration-color: #008080; font-weight: bold\">-6.3905e-04</span><span style=\"font-weight: bold\">]</span>,\n",
       "        <span style=\"font-weight: bold\">[</span><span style=\"color: #008080; text-decoration-color: #008080; font-weight: bold\">-7.9295e-04</span>, <span style=\"color: #008080; text-decoration-color: #008080; font-weight: bold\">-2.0689e-03</span>, <span style=\"color: #008080; text-decoration-color: #008080; font-weight: bold\">-6.9289e-04</span>, <span style=\"color: #008080; text-decoration-color: #008080; font-weight: bold\">-7.2696e-04</span>,  <span style=\"color: #008080; text-decoration-color: #008080; font-weight: bold\">1.1507e-03</span><span style=\"font-weight: bold\">]</span>,\n",
       "        <span style=\"font-weight: bold\">[</span><span style=\"color: #008080; text-decoration-color: #008080; font-weight: bold\">-1.9385e-03</span>, <span style=\"color: #008080; text-decoration-color: #008080; font-weight: bold\">-2.7085e-03</span>, <span style=\"color: #008080; text-decoration-color: #008080; font-weight: bold\">-7.6056e-04</span>, <span style=\"color: #008080; text-decoration-color: #008080; font-weight: bold\">-4.4964e-04</span>, <span style=\"color: #008080; text-decoration-color: #008080; font-weight: bold\">-4.5431e-04</span><span style=\"font-weight: bold\">]])</span>\n",
       "</pre>\n"
      ],
      "text/plain": [
       "\u001b[1;35mtensor\u001b[0m\u001b[1m(\u001b[0m\u001b[1m[\u001b[0m\u001b[1m[\u001b[0m\u001b[1;36m-3.0775e-06\u001b[0m,  \u001b[1;36m1.6830e-03\u001b[0m, \u001b[1;36m-1.3377e-03\u001b[0m, \u001b[1;36m-1.8160e-04\u001b[0m, \u001b[1;36m-3.0330e-04\u001b[0m\u001b[1m]\u001b[0m,\n",
       "        \u001b[1m[\u001b[0m\u001b[1;36m-9.2404e-04\u001b[0m, \u001b[1;36m-8.7230e-04\u001b[0m, \u001b[1;36m-1.0772e-03\u001b[0m, \u001b[1;36m-1.4970e-05\u001b[0m, \u001b[1;36m-5.5368e-04\u001b[0m\u001b[1m]\u001b[0m,\n",
       "        \u001b[1m[\u001b[0m\u001b[1;36m-3.1002e-04\u001b[0m,  \u001b[1;36m4.5422e-04\u001b[0m,  \u001b[1;36m1.7460e-04\u001b[0m, \u001b[1;36m-5.0915e-04\u001b[0m, \u001b[1;36m-6.3905e-04\u001b[0m\u001b[1m]\u001b[0m,\n",
       "        \u001b[1m[\u001b[0m\u001b[1;36m-7.9295e-04\u001b[0m, \u001b[1;36m-2.0689e-03\u001b[0m, \u001b[1;36m-6.9289e-04\u001b[0m, \u001b[1;36m-7.2696e-04\u001b[0m,  \u001b[1;36m1.1507e-03\u001b[0m\u001b[1m]\u001b[0m,\n",
       "        \u001b[1m[\u001b[0m\u001b[1;36m-1.9385e-03\u001b[0m, \u001b[1;36m-2.7085e-03\u001b[0m, \u001b[1;36m-7.6056e-04\u001b[0m, \u001b[1;36m-4.4964e-04\u001b[0m, \u001b[1;36m-4.5431e-04\u001b[0m\u001b[1m]\u001b[0m\u001b[1m]\u001b[0m\u001b[1m)\u001b[0m\n"
      ]
     },
     "metadata": {},
     "output_type": "display_data"
    },
    {
     "data": {
      "text/html": [
       "<pre style=\"white-space:pre;overflow-x:auto;line-height:normal;font-family:Menlo,'DejaVu Sans Mono',consolas,'Courier New',monospace\"><span style=\"color: #800080; text-decoration-color: #800080; font-weight: bold\">tensor</span><span style=\"font-weight: bold\">([[</span> <span style=\"color: #008080; text-decoration-color: #008080; font-weight: bold\">3.2876e-05</span>,  <span style=\"color: #008080; text-decoration-color: #008080; font-weight: bold\">1.1341e-04</span>,  <span style=\"color: #008080; text-decoration-color: #008080; font-weight: bold\">2.4314e-05</span>,  <span style=\"color: #008080; text-decoration-color: #008080; font-weight: bold\">2.4401e-05</span>,  <span style=\"color: #008080; text-decoration-color: #008080; font-weight: bold\">9.0846e-05</span><span style=\"font-weight: bold\">]</span>,\n",
       "        <span style=\"font-weight: bold\">[</span><span style=\"color: #008080; text-decoration-color: #008080; font-weight: bold\">-1.6622e-05</span>,  <span style=\"color: #008080; text-decoration-color: #008080; font-weight: bold\">2.6949e-05</span>,  <span style=\"color: #008080; text-decoration-color: #008080; font-weight: bold\">2.7279e-05</span>,  <span style=\"color: #008080; text-decoration-color: #008080; font-weight: bold\">2.2369e-05</span>,  <span style=\"color: #008080; text-decoration-color: #008080; font-weight: bold\">3.7877e-06</span><span style=\"font-weight: bold\">]</span>,\n",
       "        <span style=\"font-weight: bold\">[</span> <span style=\"color: #008080; text-decoration-color: #008080; font-weight: bold\">1.0191e-05</span>,  <span style=\"color: #008080; text-decoration-color: #008080; font-weight: bold\">4.7310e-05</span>,  <span style=\"color: #008080; text-decoration-color: #008080; font-weight: bold\">6.9686e-06</span>,  <span style=\"color: #008080; text-decoration-color: #008080; font-weight: bold\">1.1149e-06</span>,  <span style=\"color: #008080; text-decoration-color: #008080; font-weight: bold\">2.8567e-05</span><span style=\"font-weight: bold\">]</span>,\n",
       "        <span style=\"font-weight: bold\">[</span> <span style=\"color: #008080; text-decoration-color: #008080; font-weight: bold\">2.4554e-05</span>,  <span style=\"color: #008080; text-decoration-color: #008080; font-weight: bold\">8.1344e-05</span>,  <span style=\"color: #008080; text-decoration-color: #008080; font-weight: bold\">2.4788e-05</span>,  <span style=\"color: #008080; text-decoration-color: #008080; font-weight: bold\">1.9775e-05</span>,  <span style=\"color: #008080; text-decoration-color: #008080; font-weight: bold\">3.3926e-05</span><span style=\"font-weight: bold\">]</span>,\n",
       "        <span style=\"font-weight: bold\">[</span> <span style=\"color: #008080; text-decoration-color: #008080; font-weight: bold\">7.2091e-06</span>,  <span style=\"color: #008080; text-decoration-color: #008080; font-weight: bold\">2.9094e-05</span>,  <span style=\"color: #008080; text-decoration-color: #008080; font-weight: bold\">8.7493e-06</span>,  <span style=\"color: #008080; text-decoration-color: #008080; font-weight: bold\">2.1335e-05</span>, <span style=\"color: #008080; text-decoration-color: #008080; font-weight: bold\">-1.6757e-05</span><span style=\"font-weight: bold\">]])</span>\n",
       "</pre>\n"
      ],
      "text/plain": [
       "\u001b[1;35mtensor\u001b[0m\u001b[1m(\u001b[0m\u001b[1m[\u001b[0m\u001b[1m[\u001b[0m \u001b[1;36m3.2876e-05\u001b[0m,  \u001b[1;36m1.1341e-04\u001b[0m,  \u001b[1;36m2.4314e-05\u001b[0m,  \u001b[1;36m2.4401e-05\u001b[0m,  \u001b[1;36m9.0846e-05\u001b[0m\u001b[1m]\u001b[0m,\n",
       "        \u001b[1m[\u001b[0m\u001b[1;36m-1.6622e-05\u001b[0m,  \u001b[1;36m2.6949e-05\u001b[0m,  \u001b[1;36m2.7279e-05\u001b[0m,  \u001b[1;36m2.2369e-05\u001b[0m,  \u001b[1;36m3.7877e-06\u001b[0m\u001b[1m]\u001b[0m,\n",
       "        \u001b[1m[\u001b[0m \u001b[1;36m1.0191e-05\u001b[0m,  \u001b[1;36m4.7310e-05\u001b[0m,  \u001b[1;36m6.9686e-06\u001b[0m,  \u001b[1;36m1.1149e-06\u001b[0m,  \u001b[1;36m2.8567e-05\u001b[0m\u001b[1m]\u001b[0m,\n",
       "        \u001b[1m[\u001b[0m \u001b[1;36m2.4554e-05\u001b[0m,  \u001b[1;36m8.1344e-05\u001b[0m,  \u001b[1;36m2.4788e-05\u001b[0m,  \u001b[1;36m1.9775e-05\u001b[0m,  \u001b[1;36m3.3926e-05\u001b[0m\u001b[1m]\u001b[0m,\n",
       "        \u001b[1m[\u001b[0m \u001b[1;36m7.2091e-06\u001b[0m,  \u001b[1;36m2.9094e-05\u001b[0m,  \u001b[1;36m8.7493e-06\u001b[0m,  \u001b[1;36m2.1335e-05\u001b[0m, \u001b[1;36m-1.6757e-05\u001b[0m\u001b[1m]\u001b[0m\u001b[1m]\u001b[0m\u001b[1m)\u001b[0m\n"
      ]
     },
     "metadata": {},
     "output_type": "display_data"
    }
   ],
   "source": [
    "# dX part dE, dC\n",
    "dE_part_X = dY_dX @ C.t()\n",
    "dC_part_X = E.t() @ dY_dX\n",
    "\n",
    "# dX Total\n",
    "dE_total = dE_part_X + dE_part_LSE\n",
    "dC_total = dC_part_X + dC_part_LSE\n",
    "\n",
    "print(dE_total[:5, :5])\n",
    "print(dC_total[:5, :5])"
   ]
  },
  {
   "cell_type": "markdown",
   "id": "67ea1a59-98f4-48a4-a8ac-823db6f57dce",
   "metadata": {},
   "source": [
    "#### CCE Backward total"
   ]
  },
  {
   "cell_type": "code",
   "execution_count": 34,
   "id": "885e98ee-f301-4502-8e51-2e0630873ee8",
   "metadata": {},
   "outputs": [
    {
     "data": {
      "text/html": [
       "<pre style=\"white-space:pre;overflow-x:auto;line-height:normal;font-family:Menlo,'DejaVu Sans Mono',consolas,'Courier New',monospace\"><span style=\"color: #800080; text-decoration-color: #800080; font-weight: bold\">tensor</span><span style=\"font-weight: bold\">([[</span><span style=\"color: #008080; text-decoration-color: #008080; font-weight: bold\">0.0077</span>, <span style=\"color: #008080; text-decoration-color: #008080; font-weight: bold\">0.0046</span>, <span style=\"color: #008080; text-decoration-color: #008080; font-weight: bold\">0.0018</span>,  <span style=\"color: #808000; text-decoration-color: #808000\">...</span>, <span style=\"color: #008080; text-decoration-color: #008080; font-weight: bold\">0.0070</span>, <span style=\"color: #008080; text-decoration-color: #008080; font-weight: bold\">0.0058</span>, <span style=\"color: #008080; text-decoration-color: #008080; font-weight: bold\">0.0023</span><span style=\"font-weight: bold\">]</span>,\n",
       "        <span style=\"font-weight: bold\">[</span><span style=\"color: #008080; text-decoration-color: #008080; font-weight: bold\">0.0016</span>, <span style=\"color: #008080; text-decoration-color: #008080; font-weight: bold\">0.0617</span>, <span style=\"color: #008080; text-decoration-color: #008080; font-weight: bold\">0.0058</span>,  <span style=\"color: #808000; text-decoration-color: #808000\">...</span>, <span style=\"color: #008080; text-decoration-color: #008080; font-weight: bold\">0.0029</span>, <span style=\"color: #008080; text-decoration-color: #008080; font-weight: bold\">0.0063</span>, <span style=\"color: #008080; text-decoration-color: #008080; font-weight: bold\">0.0035</span><span style=\"font-weight: bold\">]</span>,\n",
       "        <span style=\"font-weight: bold\">[</span><span style=\"color: #008080; text-decoration-color: #008080; font-weight: bold\">0.0086</span>, <span style=\"color: #008080; text-decoration-color: #008080; font-weight: bold\">0.0008</span>, <span style=\"color: #008080; text-decoration-color: #008080; font-weight: bold\">0.0023</span>,  <span style=\"color: #808000; text-decoration-color: #808000\">...</span>, <span style=\"color: #008080; text-decoration-color: #008080; font-weight: bold\">0.0012</span>, <span style=\"color: #008080; text-decoration-color: #008080; font-weight: bold\">0.0135</span>, <span style=\"color: #008080; text-decoration-color: #008080; font-weight: bold\">0.0068</span><span style=\"font-weight: bold\">]</span>,\n",
       "        <span style=\"color: #808000; text-decoration-color: #808000\">...</span>,\n",
       "        <span style=\"font-weight: bold\">[</span><span style=\"color: #008080; text-decoration-color: #008080; font-weight: bold\">0.0091</span>, <span style=\"color: #008080; text-decoration-color: #008080; font-weight: bold\">0.0054</span>, <span style=\"color: #008080; text-decoration-color: #008080; font-weight: bold\">0.0052</span>,  <span style=\"color: #808000; text-decoration-color: #808000\">...</span>, <span style=\"color: #008080; text-decoration-color: #008080; font-weight: bold\">0.0153</span>, <span style=\"color: #008080; text-decoration-color: #008080; font-weight: bold\">0.0245</span>, <span style=\"color: #008080; text-decoration-color: #008080; font-weight: bold\">0.0024</span><span style=\"font-weight: bold\">]</span>,\n",
       "        <span style=\"font-weight: bold\">[</span><span style=\"color: #008080; text-decoration-color: #008080; font-weight: bold\">0.0036</span>, <span style=\"color: #008080; text-decoration-color: #008080; font-weight: bold\">0.0119</span>, <span style=\"color: #008080; text-decoration-color: #008080; font-weight: bold\">0.0071</span>,  <span style=\"color: #808000; text-decoration-color: #808000\">...</span>, <span style=\"color: #008080; text-decoration-color: #008080; font-weight: bold\">0.0269</span>, <span style=\"color: #008080; text-decoration-color: #008080; font-weight: bold\">0.0027</span>, <span style=\"color: #008080; text-decoration-color: #008080; font-weight: bold\">0.0047</span><span style=\"font-weight: bold\">]</span>,\n",
       "        <span style=\"font-weight: bold\">[</span><span style=\"color: #008080; text-decoration-color: #008080; font-weight: bold\">0.0076</span>, <span style=\"color: #008080; text-decoration-color: #008080; font-weight: bold\">0.0016</span>, <span style=\"color: #008080; text-decoration-color: #008080; font-weight: bold\">0.0021</span>,  <span style=\"color: #808000; text-decoration-color: #808000\">...</span>, <span style=\"color: #008080; text-decoration-color: #008080; font-weight: bold\">0.0147</span>, <span style=\"color: #008080; text-decoration-color: #008080; font-weight: bold\">0.0019</span>, <span style=\"color: #008080; text-decoration-color: #008080; font-weight: bold\">0.0011</span><span style=\"font-weight: bold\">]])</span>\n",
       "</pre>\n"
      ],
      "text/plain": [
       "\u001b[1;35mtensor\u001b[0m\u001b[1m(\u001b[0m\u001b[1m[\u001b[0m\u001b[1m[\u001b[0m\u001b[1;36m0.0077\u001b[0m, \u001b[1;36m0.0046\u001b[0m, \u001b[1;36m0.0018\u001b[0m,  \u001b[33m...\u001b[0m, \u001b[1;36m0.0070\u001b[0m, \u001b[1;36m0.0058\u001b[0m, \u001b[1;36m0.0023\u001b[0m\u001b[1m]\u001b[0m,\n",
       "        \u001b[1m[\u001b[0m\u001b[1;36m0.0016\u001b[0m, \u001b[1;36m0.0617\u001b[0m, \u001b[1;36m0.0058\u001b[0m,  \u001b[33m...\u001b[0m, \u001b[1;36m0.0029\u001b[0m, \u001b[1;36m0.0063\u001b[0m, \u001b[1;36m0.0035\u001b[0m\u001b[1m]\u001b[0m,\n",
       "        \u001b[1m[\u001b[0m\u001b[1;36m0.0086\u001b[0m, \u001b[1;36m0.0008\u001b[0m, \u001b[1;36m0.0023\u001b[0m,  \u001b[33m...\u001b[0m, \u001b[1;36m0.0012\u001b[0m, \u001b[1;36m0.0135\u001b[0m, \u001b[1;36m0.0068\u001b[0m\u001b[1m]\u001b[0m,\n",
       "        \u001b[33m...\u001b[0m,\n",
       "        \u001b[1m[\u001b[0m\u001b[1;36m0.0091\u001b[0m, \u001b[1;36m0.0054\u001b[0m, \u001b[1;36m0.0052\u001b[0m,  \u001b[33m...\u001b[0m, \u001b[1;36m0.0153\u001b[0m, \u001b[1;36m0.0245\u001b[0m, \u001b[1;36m0.0024\u001b[0m\u001b[1m]\u001b[0m,\n",
       "        \u001b[1m[\u001b[0m\u001b[1;36m0.0036\u001b[0m, \u001b[1;36m0.0119\u001b[0m, \u001b[1;36m0.0071\u001b[0m,  \u001b[33m...\u001b[0m, \u001b[1;36m0.0269\u001b[0m, \u001b[1;36m0.0027\u001b[0m, \u001b[1;36m0.0047\u001b[0m\u001b[1m]\u001b[0m,\n",
       "        \u001b[1m[\u001b[0m\u001b[1;36m0.0076\u001b[0m, \u001b[1;36m0.0016\u001b[0m, \u001b[1;36m0.0021\u001b[0m,  \u001b[33m...\u001b[0m, \u001b[1;36m0.0147\u001b[0m, \u001b[1;36m0.0019\u001b[0m, \u001b[1;36m0.0011\u001b[0m\u001b[1m]\u001b[0m\u001b[1m]\u001b[0m\u001b[1m)\u001b[0m\n"
      ]
     },
     "metadata": {},
     "output_type": "display_data"
    },
    {
     "data": {
      "text/html": [
       "<pre style=\"white-space:pre;overflow-x:auto;line-height:normal;font-family:Menlo,'DejaVu Sans Mono',consolas,'Courier New',monospace\"><span style=\"color: #800080; text-decoration-color: #800080; font-weight: bold\">tensor</span><span style=\"font-weight: bold\">([[</span><span style=\"color: #008080; text-decoration-color: #008080; font-weight: bold\">3.7805e-25</span>, <span style=\"color: #008080; text-decoration-color: #008080; font-weight: bold\">1.6146e-26</span>, <span style=\"color: #008080; text-decoration-color: #008080; font-weight: bold\">1.0305e-27</span>,  <span style=\"color: #808000; text-decoration-color: #808000\">...</span>, <span style=\"color: #008080; text-decoration-color: #008080; font-weight: bold\">1.8982e-25</span>, <span style=\"color: #008080; text-decoration-color: #008080; font-weight: bold\">5.7151e-26</span>,\n",
       "         <span style=\"color: #008080; text-decoration-color: #008080; font-weight: bold\">1.6623e-27</span><span style=\"font-weight: bold\">]</span>,\n",
       "        <span style=\"font-weight: bold\">[</span><span style=\"color: #008080; text-decoration-color: #008080; font-weight: bold\">2.3918e-27</span>, <span style=\"color: #008080; text-decoration-color: #008080; font-weight: bold\">3.1155e-01</span>, <span style=\"color: #008080; text-decoration-color: #008080; font-weight: bold\">1.6124e-25</span>,  <span style=\"color: #808000; text-decoration-color: #808000\">...</span>, <span style=\"color: #008080; text-decoration-color: #008080; font-weight: bold\">8.4964e-27</span>, <span style=\"color: #008080; text-decoration-color: #008080; font-weight: bold\">2.4980e-25</span>,\n",
       "         <span style=\"color: #008080; text-decoration-color: #008080; font-weight: bold\">1.5034e-26</span><span style=\"font-weight: bold\">]</span>,\n",
       "        <span style=\"font-weight: bold\">[</span><span style=\"color: #008080; text-decoration-color: #008080; font-weight: bold\">7.9437e-19</span>, <span style=\"color: #008080; text-decoration-color: #008080; font-weight: bold\">3.2957e-22</span>, <span style=\"color: #008080; text-decoration-color: #008080; font-weight: bold\">1.4669e-21</span>,  <span style=\"color: #808000; text-decoration-color: #808000\">...</span>, <span style=\"color: #008080; text-decoration-color: #008080; font-weight: bold\">4.8355e-22</span>, <span style=\"color: #008080; text-decoration-color: #008080; font-weight: bold\">1.0210e-16</span>,\n",
       "         <span style=\"color: #008080; text-decoration-color: #008080; font-weight: bold\">1.2394e-19</span><span style=\"font-weight: bold\">]</span>,\n",
       "        <span style=\"color: #808000; text-decoration-color: #808000\">...</span>,\n",
       "        <span style=\"font-weight: bold\">[</span><span style=\"color: #008080; text-decoration-color: #008080; font-weight: bold\">3.1144e-18</span>, <span style=\"color: #008080; text-decoration-color: #008080; font-weight: bold\">7.5563e-20</span>, <span style=\"color: #008080; text-decoration-color: #008080; font-weight: bold\">6.2492e-20</span>,  <span style=\"color: #808000; text-decoration-color: #808000\">...</span>, <span style=\"color: #008080; text-decoration-color: #008080; font-weight: bold\">1.5313e-15</span>, <span style=\"color: #008080; text-decoration-color: #008080; font-weight: bold\">1.4256e-11</span>,\n",
       "         <span style=\"color: #008080; text-decoration-color: #008080; font-weight: bold\">3.9089e-21</span><span style=\"font-weight: bold\">]</span>,\n",
       "        <span style=\"font-weight: bold\">[</span><span style=\"color: #008080; text-decoration-color: #008080; font-weight: bold\">6.5182e-25</span>, <span style=\"color: #008080; text-decoration-color: #008080; font-weight: bold\">2.6652e-21</span>, <span style=\"color: #008080; text-decoration-color: #008080; font-weight: bold\">2.1679e-23</span>,  <span style=\"color: #808000; text-decoration-color: #808000\">...</span>, <span style=\"color: #008080; text-decoration-color: #008080; font-weight: bold\">8.5875e-15</span>, <span style=\"color: #008080; text-decoration-color: #008080; font-weight: bold\">2.5412e-25</span>,\n",
       "         <span style=\"color: #008080; text-decoration-color: #008080; font-weight: bold\">1.8990e-24</span><span style=\"font-weight: bold\">]</span>,\n",
       "        <span style=\"font-weight: bold\">[</span><span style=\"color: #008080; text-decoration-color: #008080; font-weight: bold\">9.3496e-28</span>, <span style=\"color: #008080; text-decoration-color: #008080; font-weight: bold\">2.3253e-30</span>, <span style=\"color: #008080; text-decoration-color: #008080; font-weight: bold\">3.8035e-30</span>,  <span style=\"color: #808000; text-decoration-color: #808000\">...</span>, <span style=\"color: #008080; text-decoration-color: #008080; font-weight: bold\">1.2009e-24</span>, <span style=\"color: #008080; text-decoration-color: #008080; font-weight: bold\">3.0555e-30</span>,\n",
       "         <span style=\"color: #008080; text-decoration-color: #008080; font-weight: bold\">1.4015e-30</span><span style=\"font-weight: bold\">]])</span>\n",
       "</pre>\n"
      ],
      "text/plain": [
       "\u001b[1;35mtensor\u001b[0m\u001b[1m(\u001b[0m\u001b[1m[\u001b[0m\u001b[1m[\u001b[0m\u001b[1;36m3.7805e-25\u001b[0m, \u001b[1;36m1.6146e-26\u001b[0m, \u001b[1;36m1.0305e-27\u001b[0m,  \u001b[33m...\u001b[0m, \u001b[1;36m1.8982e-25\u001b[0m, \u001b[1;36m5.7151e-26\u001b[0m,\n",
       "         \u001b[1;36m1.6623e-27\u001b[0m\u001b[1m]\u001b[0m,\n",
       "        \u001b[1m[\u001b[0m\u001b[1;36m2.3918e-27\u001b[0m, \u001b[1;36m3.1155e-01\u001b[0m, \u001b[1;36m1.6124e-25\u001b[0m,  \u001b[33m...\u001b[0m, \u001b[1;36m8.4964e-27\u001b[0m, \u001b[1;36m2.4980e-25\u001b[0m,\n",
       "         \u001b[1;36m1.5034e-26\u001b[0m\u001b[1m]\u001b[0m,\n",
       "        \u001b[1m[\u001b[0m\u001b[1;36m7.9437e-19\u001b[0m, \u001b[1;36m3.2957e-22\u001b[0m, \u001b[1;36m1.4669e-21\u001b[0m,  \u001b[33m...\u001b[0m, \u001b[1;36m4.8355e-22\u001b[0m, \u001b[1;36m1.0210e-16\u001b[0m,\n",
       "         \u001b[1;36m1.2394e-19\u001b[0m\u001b[1m]\u001b[0m,\n",
       "        \u001b[33m...\u001b[0m,\n",
       "        \u001b[1m[\u001b[0m\u001b[1;36m3.1144e-18\u001b[0m, \u001b[1;36m7.5563e-20\u001b[0m, \u001b[1;36m6.2492e-20\u001b[0m,  \u001b[33m...\u001b[0m, \u001b[1;36m1.5313e-15\u001b[0m, \u001b[1;36m1.4256e-11\u001b[0m,\n",
       "         \u001b[1;36m3.9089e-21\u001b[0m\u001b[1m]\u001b[0m,\n",
       "        \u001b[1m[\u001b[0m\u001b[1;36m6.5182e-25\u001b[0m, \u001b[1;36m2.6652e-21\u001b[0m, \u001b[1;36m2.1679e-23\u001b[0m,  \u001b[33m...\u001b[0m, \u001b[1;36m8.5875e-15\u001b[0m, \u001b[1;36m2.5412e-25\u001b[0m,\n",
       "         \u001b[1;36m1.8990e-24\u001b[0m\u001b[1m]\u001b[0m,\n",
       "        \u001b[1m[\u001b[0m\u001b[1;36m9.3496e-28\u001b[0m, \u001b[1;36m2.3253e-30\u001b[0m, \u001b[1;36m3.8035e-30\u001b[0m,  \u001b[33m...\u001b[0m, \u001b[1;36m1.2009e-24\u001b[0m, \u001b[1;36m3.0555e-30\u001b[0m,\n",
       "         \u001b[1;36m1.4015e-30\u001b[0m\u001b[1m]\u001b[0m\u001b[1m]\u001b[0m\u001b[1m)\u001b[0m\n"
      ]
     },
     "metadata": {},
     "output_type": "display_data"
    },
    {
     "data": {
      "text/html": [
       "<pre style=\"white-space:pre;overflow-x:auto;line-height:normal;font-family:Menlo,'DejaVu Sans Mono',consolas,'Courier New',monospace\"><span style=\"color: #800080; text-decoration-color: #800080; font-weight: bold\">tensor</span><span style=\"font-weight: bold\">([</span> <span style=\"color: #008080; text-decoration-color: #008080; font-weight: bold\">21</span>,  <span style=\"color: #008080; text-decoration-color: #008080; font-weight: bold\">89</span>, <span style=\"color: #008080; text-decoration-color: #008080; font-weight: bold\">112</span>, <span style=\"color: #008080; text-decoration-color: #008080; font-weight: bold\">110</span>, <span style=\"color: #008080; text-decoration-color: #008080; font-weight: bold\">126</span>,  <span style=\"color: #008080; text-decoration-color: #008080; font-weight: bold\">74</span>,  <span style=\"color: #008080; text-decoration-color: #008080; font-weight: bold\">38</span>,  <span style=\"color: #008080; text-decoration-color: #008080; font-weight: bold\">76</span><span style=\"font-weight: bold\">])</span>\n",
       "</pre>\n"
      ],
      "text/plain": [
       "\u001b[1;35mtensor\u001b[0m\u001b[1m(\u001b[0m\u001b[1m[\u001b[0m \u001b[1;36m21\u001b[0m,  \u001b[1;36m89\u001b[0m, \u001b[1;36m112\u001b[0m, \u001b[1;36m110\u001b[0m, \u001b[1;36m126\u001b[0m,  \u001b[1;36m74\u001b[0m,  \u001b[1;36m38\u001b[0m,  \u001b[1;36m76\u001b[0m\u001b[1m]\u001b[0m\u001b[1m)\u001b[0m\n"
      ]
     },
     "metadata": {},
     "output_type": "display_data"
    },
    {
     "data": {
      "text/html": [
       "<pre style=\"white-space:pre;overflow-x:auto;line-height:normal;font-family:Menlo,'DejaVu Sans Mono',consolas,'Courier New',monospace\"><span style=\"color: #800080; text-decoration-color: #800080; font-weight: bold\">tensor</span><span style=\"font-weight: bold\">(</span><span style=\"color: #008080; text-decoration-color: #008080; font-weight: bold\">1</span>.<span style=\"font-weight: bold\">)</span>\n",
       "</pre>\n"
      ],
      "text/plain": [
       "\u001b[1;35mtensor\u001b[0m\u001b[1m(\u001b[0m\u001b[1;36m1\u001b[0m.\u001b[1m)\u001b[0m\n"
      ]
     },
     "metadata": {},
     "output_type": "display_data"
    }
   ],
   "source": [
    "print(Y)\n",
    "Y_t = Y / 0.001 # be sharp\n",
    "YY = F.softmax(Y_t, dim = 1)\n",
    "print(YY)\n",
    "_, label = torch.max(YY, dim = 1)\n",
    "print(label)\n",
    "\n",
    "print(YY[0, label[0]])"
   ]
  },
  {
   "cell_type": "markdown",
   "id": "8a041429-6553-4293-a859-b253fc9b4658",
   "metadata": {},
   "source": [
    "##### max likelihood version CE"
   ]
  },
  {
   "cell_type": "code",
   "execution_count": 35,
   "id": "e5f78593-9655-494f-90cd-4307be24a95c",
   "metadata": {},
   "outputs": [
    {
     "data": {
      "text/html": [
       "<pre style=\"white-space:pre;overflow-x:auto;line-height:normal;font-family:Menlo,'DejaVu Sans Mono',consolas,'Courier New',monospace\"><span style=\"color: #800080; text-decoration-color: #800080; font-weight: bold\">torch.Size</span><span style=\"font-weight: bold\">([</span><span style=\"color: #008080; text-decoration-color: #008080; font-weight: bold\">8</span>, <span style=\"color: #008080; text-decoration-color: #008080; font-weight: bold\">128</span><span style=\"font-weight: bold\">])</span>\n",
       "</pre>\n"
      ],
      "text/plain": [
       "\u001b[1;35mtorch.Size\u001b[0m\u001b[1m(\u001b[0m\u001b[1m[\u001b[0m\u001b[1;36m8\u001b[0m, \u001b[1;36m128\u001b[0m\u001b[1m]\u001b[0m\u001b[1m)\u001b[0m\n"
      ]
     },
     "metadata": {},
     "output_type": "display_data"
    }
   ],
   "source": [
    "print(P.shape)"
   ]
  },
  {
   "cell_type": "code",
   "execution_count": 36,
   "id": "ce6606b8-75a4-4bf2-bdaf-c878c7ceca6f",
   "metadata": {},
   "outputs": [
    {
     "data": {
      "text/html": [
       "<pre style=\"white-space:pre;overflow-x:auto;line-height:normal;font-family:Menlo,'DejaVu Sans Mono',consolas,'Courier New',monospace\"><span style=\"color: #800080; text-decoration-color: #800080; font-weight: bold\">tensor</span><span style=\"font-weight: bold\">([[</span> <span style=\"color: #008080; text-decoration-color: #008080; font-weight: bold\">21</span>,  <span style=\"color: #008080; text-decoration-color: #008080; font-weight: bold\">89</span>, <span style=\"color: #008080; text-decoration-color: #008080; font-weight: bold\">112</span>, <span style=\"color: #008080; text-decoration-color: #008080; font-weight: bold\">110</span>, <span style=\"color: #008080; text-decoration-color: #008080; font-weight: bold\">126</span>,  <span style=\"color: #008080; text-decoration-color: #008080; font-weight: bold\">74</span>,  <span style=\"color: #008080; text-decoration-color: #008080; font-weight: bold\">38</span>,  <span style=\"color: #008080; text-decoration-color: #008080; font-weight: bold\">76</span><span style=\"font-weight: bold\">]])</span>\n",
       "</pre>\n"
      ],
      "text/plain": [
       "\u001b[1;35mtensor\u001b[0m\u001b[1m(\u001b[0m\u001b[1m[\u001b[0m\u001b[1m[\u001b[0m \u001b[1;36m21\u001b[0m,  \u001b[1;36m89\u001b[0m, \u001b[1;36m112\u001b[0m, \u001b[1;36m110\u001b[0m, \u001b[1;36m126\u001b[0m,  \u001b[1;36m74\u001b[0m,  \u001b[1;36m38\u001b[0m,  \u001b[1;36m76\u001b[0m\u001b[1m]\u001b[0m\u001b[1m]\u001b[0m\u001b[1m)\u001b[0m\n"
      ]
     },
     "metadata": {},
     "output_type": "display_data"
    },
    {
     "data": {
      "text/html": [
       "<pre style=\"white-space:pre;overflow-x:auto;line-height:normal;font-family:Menlo,'DejaVu Sans Mono',consolas,'Courier New',monospace\"><span style=\"color: #800080; text-decoration-color: #800080; font-weight: bold\">tensor</span><span style=\"font-weight: bold\">([[</span><span style=\"color: #008080; text-decoration-color: #008080; font-weight: bold\">11.2310</span><span style=\"font-weight: bold\">]</span>,\n",
       "        <span style=\"font-weight: bold\">[</span><span style=\"color: #008080; text-decoration-color: #008080; font-weight: bold\">12.6195</span><span style=\"font-weight: bold\">]</span>,\n",
       "        <span style=\"font-weight: bold\">[</span><span style=\"color: #008080; text-decoration-color: #008080; font-weight: bold\">10.8524</span><span style=\"font-weight: bold\">]</span>,\n",
       "        <span style=\"font-weight: bold\">[</span><span style=\"color: #008080; text-decoration-color: #008080; font-weight: bold\">14.9215</span><span style=\"font-weight: bold\">]</span>,\n",
       "        <span style=\"font-weight: bold\">[</span><span style=\"color: #008080; text-decoration-color: #008080; font-weight: bold\">12.0455</span><span style=\"font-weight: bold\">]</span>,\n",
       "        <span style=\"font-weight: bold\">[</span> <span style=\"color: #008080; text-decoration-color: #008080; font-weight: bold\">9.4452</span><span style=\"font-weight: bold\">]</span>,\n",
       "        <span style=\"font-weight: bold\">[</span><span style=\"color: #008080; text-decoration-color: #008080; font-weight: bold\">27.2964</span><span style=\"font-weight: bold\">]</span>,\n",
       "        <span style=\"font-weight: bold\">[</span><span style=\"color: #008080; text-decoration-color: #008080; font-weight: bold\">13.8197</span><span style=\"font-weight: bold\">]])</span>\n",
       "</pre>\n"
      ],
      "text/plain": [
       "\u001b[1;35mtensor\u001b[0m\u001b[1m(\u001b[0m\u001b[1m[\u001b[0m\u001b[1m[\u001b[0m\u001b[1;36m11.2310\u001b[0m\u001b[1m]\u001b[0m,\n",
       "        \u001b[1m[\u001b[0m\u001b[1;36m12.6195\u001b[0m\u001b[1m]\u001b[0m,\n",
       "        \u001b[1m[\u001b[0m\u001b[1;36m10.8524\u001b[0m\u001b[1m]\u001b[0m,\n",
       "        \u001b[1m[\u001b[0m\u001b[1;36m14.9215\u001b[0m\u001b[1m]\u001b[0m,\n",
       "        \u001b[1m[\u001b[0m\u001b[1;36m12.0455\u001b[0m\u001b[1m]\u001b[0m,\n",
       "        \u001b[1m[\u001b[0m \u001b[1;36m9.4452\u001b[0m\u001b[1m]\u001b[0m,\n",
       "        \u001b[1m[\u001b[0m\u001b[1;36m27.2964\u001b[0m\u001b[1m]\u001b[0m,\n",
       "        \u001b[1m[\u001b[0m\u001b[1;36m13.8197\u001b[0m\u001b[1m]\u001b[0m\u001b[1m]\u001b[0m\u001b[1m)\u001b[0m\n"
      ]
     },
     "metadata": {},
     "output_type": "display_data"
    },
    {
     "data": {
      "text/html": [
       "<pre style=\"white-space:pre;overflow-x:auto;line-height:normal;font-family:Menlo,'DejaVu Sans Mono',consolas,'Courier New',monospace\"><span style=\"color: #800080; text-decoration-color: #800080; font-weight: bold\">tensor</span><span style=\"font-weight: bold\">(</span><span style=\"color: #008080; text-decoration-color: #008080; font-weight: bold\">14.0289</span><span style=\"font-weight: bold\">)</span>\n",
       "</pre>\n"
      ],
      "text/plain": [
       "\u001b[1;35mtensor\u001b[0m\u001b[1m(\u001b[0m\u001b[1;36m14.0289\u001b[0m\u001b[1m)\u001b[0m\n"
      ]
     },
     "metadata": {},
     "output_type": "display_data"
    }
   ],
   "source": [
    "print(label.unsqueeze(0))\n",
    "P_CEL = torch.gather(P, dim = 1, index = label.unsqueeze(1))\n",
    "loss = -P_CEL\n",
    "l = loss.mean()\n",
    "print(loss)\n",
    "print(l)"
   ]
  },
  {
   "cell_type": "code",
   "execution_count": 37,
   "id": "37e960f2-df94-461b-8564-fce9d6d12e16",
   "metadata": {},
   "outputs": [
    {
     "data": {
      "text/html": [
       "<pre style=\"white-space:pre;overflow-x:auto;line-height:normal;font-family:Menlo,'DejaVu Sans Mono',consolas,'Courier New',monospace\"><span style=\"color: #800080; text-decoration-color: #800080; font-weight: bold\">tensor</span><span style=\"font-weight: bold\">(</span><span style=\"color: #008080; text-decoration-color: #008080; font-weight: bold\">14.0289</span><span style=\"font-weight: bold\">)</span>\n",
       "</pre>\n"
      ],
      "text/plain": [
       "\u001b[1;35mtensor\u001b[0m\u001b[1m(\u001b[0m\u001b[1;36m14.0289\u001b[0m\u001b[1m)\u001b[0m\n"
      ]
     },
     "metadata": {},
     "output_type": "display_data"
    }
   ],
   "source": [
    "loss = nn.CrossEntropyLoss()\n",
    "l_torch = loss(X, label)\n",
    "print(l_torch)"
   ]
  },
  {
   "cell_type": "code",
   "execution_count": 38,
   "id": "c78677f7-083f-46da-a58a-a972635cec5a",
   "metadata": {},
   "outputs": [
    {
     "data": {
      "text/html": [
       "<pre style=\"white-space:pre;overflow-x:auto;line-height:normal;font-family:Menlo,'DejaVu Sans Mono',consolas,'Courier New',monospace\"><span style=\"color: #800080; text-decoration-color: #800080; font-weight: bold\">tensor</span><span style=\"font-weight: bold\">([[</span><span style=\"color: #008080; text-decoration-color: #008080; font-weight: bold\">-0.0667</span>,  <span style=\"color: #008080; text-decoration-color: #008080; font-weight: bold\">0.5227</span>, <span style=\"color: #008080; text-decoration-color: #008080; font-weight: bold\">-0.0998</span>,  <span style=\"color: #008080; text-decoration-color: #008080; font-weight: bold\">0.1277</span>, <span style=\"color: #008080; text-decoration-color: #008080; font-weight: bold\">-0.0061</span><span style=\"font-weight: bold\">]</span>,\n",
       "        <span style=\"font-weight: bold\">[</span><span style=\"color: #008080; text-decoration-color: #008080; font-weight: bold\">-0.0786</span>,  <span style=\"color: #008080; text-decoration-color: #008080; font-weight: bold\">0.0198</span>, <span style=\"color: #008080; text-decoration-color: #008080; font-weight: bold\">-0.1159</span>,  <span style=\"color: #008080; text-decoration-color: #008080; font-weight: bold\">0.0683</span>, <span style=\"color: #008080; text-decoration-color: #008080; font-weight: bold\">-0.2388</span><span style=\"font-weight: bold\">]</span>,\n",
       "        <span style=\"font-weight: bold\">[</span> <span style=\"color: #008080; text-decoration-color: #008080; font-weight: bold\">0.0438</span>,  <span style=\"color: #008080; text-decoration-color: #008080; font-weight: bold\">0.0172</span>, <span style=\"color: #008080; text-decoration-color: #008080; font-weight: bold\">-0.0514</span>, <span style=\"color: #008080; text-decoration-color: #008080; font-weight: bold\">-0.1818</span>, <span style=\"color: #008080; text-decoration-color: #008080; font-weight: bold\">-0.0870</span><span style=\"font-weight: bold\">]</span>,\n",
       "        <span style=\"font-weight: bold\">[</span><span style=\"color: #008080; text-decoration-color: #008080; font-weight: bold\">-0.1582</span>, <span style=\"color: #008080; text-decoration-color: #008080; font-weight: bold\">-0.4584</span>, <span style=\"color: #008080; text-decoration-color: #008080; font-weight: bold\">-0.1845</span>, <span style=\"color: #008080; text-decoration-color: #008080; font-weight: bold\">-0.1854</span>,  <span style=\"color: #008080; text-decoration-color: #008080; font-weight: bold\">0.2185</span><span style=\"font-weight: bold\">]</span>,\n",
       "        <span style=\"font-weight: bold\">[</span><span style=\"color: #008080; text-decoration-color: #008080; font-weight: bold\">-0.4194</span>, <span style=\"color: #008080; text-decoration-color: #008080; font-weight: bold\">-0.2052</span>, <span style=\"color: #008080; text-decoration-color: #008080; font-weight: bold\">-0.1018</span>, <span style=\"color: #008080; text-decoration-color: #008080; font-weight: bold\">-0.0136</span>, <span style=\"color: #008080; text-decoration-color: #008080; font-weight: bold\">-0.1755</span><span style=\"font-weight: bold\">]])</span>\n",
       "</pre>\n"
      ],
      "text/plain": [
       "\u001b[1;35mtensor\u001b[0m\u001b[1m(\u001b[0m\u001b[1m[\u001b[0m\u001b[1m[\u001b[0m\u001b[1;36m-0.0667\u001b[0m,  \u001b[1;36m0.5227\u001b[0m, \u001b[1;36m-0.0998\u001b[0m,  \u001b[1;36m0.1277\u001b[0m, \u001b[1;36m-0.0061\u001b[0m\u001b[1m]\u001b[0m,\n",
       "        \u001b[1m[\u001b[0m\u001b[1;36m-0.0786\u001b[0m,  \u001b[1;36m0.0198\u001b[0m, \u001b[1;36m-0.1159\u001b[0m,  \u001b[1;36m0.0683\u001b[0m, \u001b[1;36m-0.2388\u001b[0m\u001b[1m]\u001b[0m,\n",
       "        \u001b[1m[\u001b[0m \u001b[1;36m0.0438\u001b[0m,  \u001b[1;36m0.0172\u001b[0m, \u001b[1;36m-0.0514\u001b[0m, \u001b[1;36m-0.1818\u001b[0m, \u001b[1;36m-0.0870\u001b[0m\u001b[1m]\u001b[0m,\n",
       "        \u001b[1m[\u001b[0m\u001b[1;36m-0.1582\u001b[0m, \u001b[1;36m-0.4584\u001b[0m, \u001b[1;36m-0.1845\u001b[0m, \u001b[1;36m-0.1854\u001b[0m,  \u001b[1;36m0.2185\u001b[0m\u001b[1m]\u001b[0m,\n",
       "        \u001b[1m[\u001b[0m\u001b[1;36m-0.4194\u001b[0m, \u001b[1;36m-0.2052\u001b[0m, \u001b[1;36m-0.1018\u001b[0m, \u001b[1;36m-0.0136\u001b[0m, \u001b[1;36m-0.1755\u001b[0m\u001b[1m]\u001b[0m\u001b[1m]\u001b[0m\u001b[1m)\u001b[0m\n"
      ]
     },
     "metadata": {},
     "output_type": "display_data"
    },
    {
     "data": {
      "text/html": [
       "<pre style=\"white-space:pre;overflow-x:auto;line-height:normal;font-family:Menlo,'DejaVu Sans Mono',consolas,'Courier New',monospace\"><span style=\"color: #800080; text-decoration-color: #800080; font-weight: bold\">tensor</span><span style=\"font-weight: bold\">([[</span><span style=\"color: #008080; text-decoration-color: #008080; font-weight: bold\">-1.8311e-04</span>, <span style=\"color: #008080; text-decoration-color: #008080; font-weight: bold\">-1.3832e-04</span>, <span style=\"color: #008080; text-decoration-color: #008080; font-weight: bold\">-9.1366e-05</span>, <span style=\"color: #008080; text-decoration-color: #008080; font-weight: bold\">-1.0816e-05</span>, <span style=\"color: #008080; text-decoration-color: #008080; font-weight: bold\">-1.4070e-04</span><span style=\"font-weight: bold\">]</span>,\n",
       "        <span style=\"font-weight: bold\">[</span><span style=\"color: #008080; text-decoration-color: #008080; font-weight: bold\">-1.5184e-04</span>,  <span style=\"color: #008080; text-decoration-color: #008080; font-weight: bold\">3.5458e-05</span>, <span style=\"color: #008080; text-decoration-color: #008080; font-weight: bold\">-2.9624e-05</span>, <span style=\"color: #008080; text-decoration-color: #008080; font-weight: bold\">-4.7469e-05</span>, <span style=\"color: #008080; text-decoration-color: #008080; font-weight: bold\">-4.5979e-04</span><span style=\"font-weight: bold\">]</span>,\n",
       "        <span style=\"font-weight: bold\">[</span><span style=\"color: #008080; text-decoration-color: #008080; font-weight: bold\">-5.4058e-05</span>,  <span style=\"color: #008080; text-decoration-color: #008080; font-weight: bold\">3.5767e-05</span>, <span style=\"color: #008080; text-decoration-color: #008080; font-weight: bold\">-2.5905e-05</span>, <span style=\"color: #008080; text-decoration-color: #008080; font-weight: bold\">-2.8578e-07</span>, <span style=\"color: #008080; text-decoration-color: #008080; font-weight: bold\">-1.8780e-05</span><span style=\"font-weight: bold\">]</span>,\n",
       "        <span style=\"font-weight: bold\">[</span><span style=\"color: #008080; text-decoration-color: #008080; font-weight: bold\">-1.2181e-04</span>, <span style=\"color: #008080; text-decoration-color: #008080; font-weight: bold\">-6.4068e-05</span>, <span style=\"color: #008080; text-decoration-color: #008080; font-weight: bold\">-4.4068e-05</span>, <span style=\"color: #008080; text-decoration-color: #008080; font-weight: bold\">-1.1272e-05</span>, <span style=\"color: #008080; text-decoration-color: #008080; font-weight: bold\">-1.8201e-04</span><span style=\"font-weight: bold\">]</span>,\n",
       "        <span style=\"font-weight: bold\">[</span> <span style=\"color: #008080; text-decoration-color: #008080; font-weight: bold\">1.8586e-05</span>, <span style=\"color: #008080; text-decoration-color: #008080; font-weight: bold\">-1.6446e-04</span>, <span style=\"color: #008080; text-decoration-color: #008080; font-weight: bold\">-2.4953e-05</span>, <span style=\"color: #008080; text-decoration-color: #008080; font-weight: bold\">-5.3674e-06</span>,  <span style=\"color: #008080; text-decoration-color: #008080; font-weight: bold\">7.3549e-06</span><span style=\"font-weight: bold\">]])</span>\n",
       "</pre>\n"
      ],
      "text/plain": [
       "\u001b[1;35mtensor\u001b[0m\u001b[1m(\u001b[0m\u001b[1m[\u001b[0m\u001b[1m[\u001b[0m\u001b[1;36m-1.8311e-04\u001b[0m, \u001b[1;36m-1.3832e-04\u001b[0m, \u001b[1;36m-9.1366e-05\u001b[0m, \u001b[1;36m-1.0816e-05\u001b[0m, \u001b[1;36m-1.4070e-04\u001b[0m\u001b[1m]\u001b[0m,\n",
       "        \u001b[1m[\u001b[0m\u001b[1;36m-1.5184e-04\u001b[0m,  \u001b[1;36m3.5458e-05\u001b[0m, \u001b[1;36m-2.9624e-05\u001b[0m, \u001b[1;36m-4.7469e-05\u001b[0m, \u001b[1;36m-4.5979e-04\u001b[0m\u001b[1m]\u001b[0m,\n",
       "        \u001b[1m[\u001b[0m\u001b[1;36m-5.4058e-05\u001b[0m,  \u001b[1;36m3.5767e-05\u001b[0m, \u001b[1;36m-2.5905e-05\u001b[0m, \u001b[1;36m-2.8578e-07\u001b[0m, \u001b[1;36m-1.8780e-05\u001b[0m\u001b[1m]\u001b[0m,\n",
       "        \u001b[1m[\u001b[0m\u001b[1;36m-1.2181e-04\u001b[0m, \u001b[1;36m-6.4068e-05\u001b[0m, \u001b[1;36m-4.4068e-05\u001b[0m, \u001b[1;36m-1.1272e-05\u001b[0m, \u001b[1;36m-1.8201e-04\u001b[0m\u001b[1m]\u001b[0m,\n",
       "        \u001b[1m[\u001b[0m \u001b[1;36m1.8586e-05\u001b[0m, \u001b[1;36m-1.6446e-04\u001b[0m, \u001b[1;36m-2.4953e-05\u001b[0m, \u001b[1;36m-5.3674e-06\u001b[0m,  \u001b[1;36m7.3549e-06\u001b[0m\u001b[1m]\u001b[0m\u001b[1m]\u001b[0m\u001b[1m)\u001b[0m\n"
      ]
     },
     "metadata": {},
     "output_type": "display_data"
    }
   ],
   "source": [
    "# CCE : Algorithm 4\n",
    "\n",
    "bs = 8\n",
    "v = 128\n",
    "\n",
    "\n",
    "M = torch.zeros(bs, v)\n",
    "for i in range(bs):\n",
    "    M[i, label[i]] = 1\n",
    "M_blocks = torch.split(M, n_b, dim = 0)\n",
    "\n",
    "dE = torch.zeros_like(E)\n",
    "dC = torch.zeros_like(C)\n",
    "\n",
    "dE_blocks = torch.split(dE, n_b, dim = 0)\n",
    "dC_blocks = torch.split(dC, v_b, dim = 1)\n",
    "\n",
    "d_LCE = torch.ones(bs, 1) / bs\n",
    "\n",
    "# LSE part\n",
    "for n, e in enumerate(E_blocks):\n",
    "    \n",
    "    M_v_blcoks = torch.split(M_blocks[n], v_b, dim = 1)\n",
    "                                 \n",
    "    for v, c in enumerate(C_blocks):\n",
    "        \n",
    "        A = torch.zeros(n_b, v_b)\n",
    "        e_d_blocks = torch.split(e, d_b, dim = 1)\n",
    "        c_d_blocks = torch.split(c, d_b, dim = 0)\n",
    "        for ed, cd in zip(e_d_blocks, c_d_blocks):\n",
    "            A += ed @ cd # A_nv\n",
    "\n",
    "\n",
    "        S = torch.exp(A - LSE[n_b * n : n_b * (n+1)]) # softmax\n",
    "        G = - M_v_blcoks[v] + S\n",
    "        \n",
    "        \n",
    "        # filter S\n",
    "        if is_filter:\n",
    "            if  (S < epsilon).all():\n",
    "                print('skip',n,v)\n",
    "                continue\n",
    "        \n",
    "        d_LCE_block = d_LCE[n_b * n : n_b * (n+1), :]\n",
    "        d_index = 0\n",
    "        for ed, cd in zip(e_d_blocks, c_d_blocks):\n",
    "            dE_blocks[n][ :, d_index * d_b: (d_index+1)*d_b ] +=  (d_LCE_block * G) @ cd.t()\n",
    "            dC_blocks[v][ d_index * d_b: (d_index+1)*d_b, : ] +=  ed.t() @ (d_LCE_block * G)\n",
    "            d_index = d_index + 1\n",
    "\n",
    "\n",
    "# dLSE gradient part\n",
    "dE = torch.cat(dE_blocks, dim = 0)\n",
    "dC = torch.cat(dC_blocks, dim = 1)\n",
    "\n",
    "print(dE[:5,:5])\n",
    "print(dC[:5,:5])"
   ]
  }
 ],
 "metadata": {
  "kernelspec": {
   "display_name": "Python 3 (ipykernel)",
   "language": "python",
   "name": "python3"
  },
  "language_info": {
   "codemirror_mode": {
    "name": "ipython",
    "version": 3
   },
   "file_extension": ".py",
   "mimetype": "text/x-python",
   "name": "python",
   "nbconvert_exporter": "python",
   "pygments_lexer": "ipython3",
   "version": "3.11.9"
  }
 },
 "nbformat": 4,
 "nbformat_minor": 5
}
